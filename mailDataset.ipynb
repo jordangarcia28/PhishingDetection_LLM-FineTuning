{
 "cells": [
  {
   "cell_type": "markdown",
   "metadata": {},
   "source": [
    "### **1. Import Dataset**\n"
   ]
  },
  {
   "cell_type": "code",
   "execution_count": 1,
   "metadata": {},
   "outputs": [],
   "source": [
    "import pandas as pd\n",
    "import matplotlib.pyplot as plt\n",
    "import seaborn as sns\n",
    "import numpy as np\n",
    "import json"
   ]
  },
  {
   "cell_type": "code",
   "execution_count": 2,
   "metadata": {},
   "outputs": [],
   "source": [
    "import nltk\n",
    "from nltk.corpus import stopwords\n",
    "from nltk.tokenize import word_tokenize\n",
    "from nltk.stem import WordNetLemmatizer"
   ]
  },
  {
   "cell_type": "code",
   "execution_count": 3,
   "metadata": {},
   "outputs": [],
   "source": [
    "from bs4 import BeautifulSoup\n",
    "import html"
   ]
  },
  {
   "cell_type": "code",
   "execution_count": 4,
   "metadata": {},
   "outputs": [
    {
     "data": {
      "text/html": [
       "<div>\n",
       "<style scoped>\n",
       "    .dataframe tbody tr th:only-of-type {\n",
       "        vertical-align: middle;\n",
       "    }\n",
       "\n",
       "    .dataframe tbody tr th {\n",
       "        vertical-align: top;\n",
       "    }\n",
       "\n",
       "    .dataframe thead th {\n",
       "        text-align: right;\n",
       "    }\n",
       "</style>\n",
       "<table border=\"1\" class=\"dataframe\">\n",
       "  <thead>\n",
       "    <tr style=\"text-align: right;\">\n",
       "      <th></th>\n",
       "      <th>Unnamed: 0</th>\n",
       "      <th>Email Text</th>\n",
       "      <th>Email Type</th>\n",
       "    </tr>\n",
       "  </thead>\n",
       "  <tbody>\n",
       "    <tr>\n",
       "      <th>0</th>\n",
       "      <td>0</td>\n",
       "      <td>re : 6 . 1100 , disc : uniformitarianism , re ...</td>\n",
       "      <td>Safe Email</td>\n",
       "    </tr>\n",
       "    <tr>\n",
       "      <th>1</th>\n",
       "      <td>1</td>\n",
       "      <td>the other side of * galicismos * * galicismo *...</td>\n",
       "      <td>Safe Email</td>\n",
       "    </tr>\n",
       "    <tr>\n",
       "      <th>2</th>\n",
       "      <td>2</td>\n",
       "      <td>re : equistar deal tickets are you still avail...</td>\n",
       "      <td>Safe Email</td>\n",
       "    </tr>\n",
       "    <tr>\n",
       "      <th>3</th>\n",
       "      <td>3</td>\n",
       "      <td>\\nHello I am your hot lil horny toy.\\n    I am...</td>\n",
       "      <td>Phishing Email</td>\n",
       "    </tr>\n",
       "    <tr>\n",
       "      <th>4</th>\n",
       "      <td>4</td>\n",
       "      <td>software at incredibly low prices ( 86 % lower...</td>\n",
       "      <td>Phishing Email</td>\n",
       "    </tr>\n",
       "  </tbody>\n",
       "</table>\n",
       "</div>"
      ],
      "text/plain": [
       "   Unnamed: 0                                         Email Text  \\\n",
       "0           0  re : 6 . 1100 , disc : uniformitarianism , re ...   \n",
       "1           1  the other side of * galicismos * * galicismo *...   \n",
       "2           2  re : equistar deal tickets are you still avail...   \n",
       "3           3  \\nHello I am your hot lil horny toy.\\n    I am...   \n",
       "4           4  software at incredibly low prices ( 86 % lower...   \n",
       "\n",
       "       Email Type  \n",
       "0      Safe Email  \n",
       "1      Safe Email  \n",
       "2      Safe Email  \n",
       "3  Phishing Email  \n",
       "4  Phishing Email  "
      ]
     },
     "execution_count": 4,
     "metadata": {},
     "output_type": "execute_result"
    }
   ],
   "source": [
    "# Load the dataset\n",
    "emails_df = pd.read_csv('datasets/Phishing_Email.csv')  # Adjust the file path as needed\n",
    "\n",
    "# Display the first few rows of the dataset\n",
    "emails_df.head()"
   ]
  },
  {
   "cell_type": "code",
   "execution_count": 5,
   "metadata": {},
   "outputs": [
    {
     "name": "stdout",
     "output_type": "stream",
     "text": [
      "Unnamed: 0     0\n",
      "Email Text    16\n",
      "Email Type     0\n",
      "dtype: int64\n"
     ]
    },
    {
     "data": {
      "text/plain": [
       "Email Type\n",
       "Safe Email        11322\n",
       "Phishing Email     7328\n",
       "Name: count, dtype: int64"
      ]
     },
     "execution_count": 5,
     "metadata": {},
     "output_type": "execute_result"
    }
   ],
   "source": [
    "# Check for missing values\n",
    "print(emails_df.isnull().sum())\n",
    "\n",
    "# Display basic statistics\n",
    "emails_df.describe()\n",
    "\n",
    "# Display the distribution of labels\n",
    "emails_df['Email Type'].value_counts()"
   ]
  },
  {
   "cell_type": "code",
   "execution_count": 6,
   "metadata": {},
   "outputs": [
    {
     "name": "stdout",
     "output_type": "stream",
     "text": [
      "Unnamed: 0    0\n",
      "Email Text    0\n",
      "Email Type    0\n",
      "dtype: int64\n",
      "0\n"
     ]
    }
   ],
   "source": [
    "# Drop rows with missing values\n",
    "emails_df = emails_df.dropna()\n",
    "\n",
    "# Remove duplicate rows\n",
    "emails_df = emails_df.drop_duplicates()\n",
    "\n",
    "# Verify the changes\n",
    "print(emails_df.isnull().sum())\n",
    "print(emails_df.duplicated().sum())"
   ]
  },
  {
   "cell_type": "code",
   "execution_count": 7,
   "metadata": {},
   "outputs": [],
   "source": [
    "# Create a boolean mask for rows where 'Email Text' is either empty or contains 'empty'\n",
    "mask = (emails_df['Email Text'] == '') | (emails_df['Email Text'].str.lower() == 'empty')\n",
    "\n",
    "# Use the mask to filter out these rows\n",
    "df_cleaned = emails_df[~mask]\n",
    "\n",
    "# Reset the index if desired\n",
    "df_cleaned.reset_index(drop=True, inplace=True)"
   ]
  },
  {
   "cell_type": "code",
   "execution_count": 9,
   "metadata": {},
   "outputs": [],
   "source": [
    "emails_df = df_cleaned"
   ]
  },
  {
   "cell_type": "code",
   "execution_count": 10,
   "metadata": {},
   "outputs": [
    {
     "data": {
      "text/plain": [
       "Email Type\n",
       "Safe Email        11124\n",
       "Phishing Email     6977\n",
       "Name: count, dtype: int64"
      ]
     },
     "execution_count": 10,
     "metadata": {},
     "output_type": "execute_result"
    }
   ],
   "source": [
    "# Display the distribution of labels\n",
    "emails_df['Email Type'].value_counts()"
   ]
  },
  {
   "cell_type": "code",
   "execution_count": 11,
   "metadata": {},
   "outputs": [
    {
     "name": "stdout",
     "output_type": "stream",
     "text": [
      "Number of rows with 3000 or more characters in 'Email Text': 2649\n"
     ]
    }
   ],
   "source": [
    "\n",
    "# Check the number of rows with 1000 or more characters in the \"Email Text\" column\n",
    "long_emails_count = emails_df[emails_df['Email Text'].str.len() >= 3000].shape[0]\n",
    "\n",
    "print(f\"Number of rows with 3000 or more characters in 'Email Text': {long_emails_count}\")"
   ]
  },
  {
   "cell_type": "code",
   "execution_count": 12,
   "metadata": {},
   "outputs": [
    {
     "name": "stdout",
     "output_type": "stream",
     "text": [
      "Number of rows after cleaning: 15453\n"
     ]
    }
   ],
   "source": [
    "# Remove rows with more than 3000 characters in the \"Email Text\" column\n",
    "emails_df = emails_df[emails_df['Email Text'].str.len() <= 3000]\n",
    "\n",
    "# Save the cleaned dataset (adjust the file path as needed)\n",
    "# df_cleaned.to_csv('cleaned_dataset.csv', index=False)\n",
    "\n",
    "print(f\"Number of rows after cleaning: {emails_df.shape[0]}\")"
   ]
  },
  {
   "cell_type": "code",
   "execution_count": 13,
   "metadata": {},
   "outputs": [
    {
     "data": {
      "text/html": [
       "<div>\n",
       "<style scoped>\n",
       "    .dataframe tbody tr th:only-of-type {\n",
       "        vertical-align: middle;\n",
       "    }\n",
       "\n",
       "    .dataframe tbody tr th {\n",
       "        vertical-align: top;\n",
       "    }\n",
       "\n",
       "    .dataframe thead th {\n",
       "        text-align: right;\n",
       "    }\n",
       "</style>\n",
       "<table border=\"1\" class=\"dataframe\">\n",
       "  <thead>\n",
       "    <tr style=\"text-align: right;\">\n",
       "      <th></th>\n",
       "      <th>Unnamed: 0</th>\n",
       "      <th>Email Text</th>\n",
       "      <th>Email Type</th>\n",
       "    </tr>\n",
       "  </thead>\n",
       "  <tbody>\n",
       "    <tr>\n",
       "      <th>0</th>\n",
       "      <td>0</td>\n",
       "      <td>re : 6 . 1100 , disc : uniformitarianism , re ...</td>\n",
       "      <td>Safe Email</td>\n",
       "    </tr>\n",
       "    <tr>\n",
       "      <th>1</th>\n",
       "      <td>1</td>\n",
       "      <td>the other side of * galicismos * * galicismo *...</td>\n",
       "      <td>Safe Email</td>\n",
       "    </tr>\n",
       "    <tr>\n",
       "      <th>2</th>\n",
       "      <td>2</td>\n",
       "      <td>re : equistar deal tickets are you still avail...</td>\n",
       "      <td>Safe Email</td>\n",
       "    </tr>\n",
       "    <tr>\n",
       "      <th>3</th>\n",
       "      <td>3</td>\n",
       "      <td>\\nHello I am your hot lil horny toy.\\n    I am...</td>\n",
       "      <td>Phishing Email</td>\n",
       "    </tr>\n",
       "    <tr>\n",
       "      <th>4</th>\n",
       "      <td>4</td>\n",
       "      <td>software at incredibly low prices ( 86 % lower...</td>\n",
       "      <td>Phishing Email</td>\n",
       "    </tr>\n",
       "  </tbody>\n",
       "</table>\n",
       "</div>"
      ],
      "text/plain": [
       "   Unnamed: 0                                         Email Text  \\\n",
       "0           0  re : 6 . 1100 , disc : uniformitarianism , re ...   \n",
       "1           1  the other side of * galicismos * * galicismo *...   \n",
       "2           2  re : equistar deal tickets are you still avail...   \n",
       "3           3  \\nHello I am your hot lil horny toy.\\n    I am...   \n",
       "4           4  software at incredibly low prices ( 86 % lower...   \n",
       "\n",
       "       Email Type  \n",
       "0      Safe Email  \n",
       "1      Safe Email  \n",
       "2      Safe Email  \n",
       "3  Phishing Email  \n",
       "4  Phishing Email  "
      ]
     },
     "execution_count": 13,
     "metadata": {},
     "output_type": "execute_result"
    }
   ],
   "source": [
    "emails_df.head()"
   ]
  },
  {
   "cell_type": "code",
   "execution_count": 14,
   "metadata": {},
   "outputs": [
    {
     "name": "stdout",
     "output_type": "stream",
     "text": [
      "['Phishing Email', 'Safe Email']\n"
     ]
    }
   ],
   "source": [
    "a = emails_df['Email Type'].unique()\n",
    "print(sorted(a))"
   ]
  },
  {
   "cell_type": "code",
   "execution_count": 15,
   "metadata": {},
   "outputs": [],
   "source": [
    "emails_df = emails_df.drop_duplicates()"
   ]
  },
  {
   "cell_type": "code",
   "execution_count": 16,
   "metadata": {},
   "outputs": [
    {
     "data": {
      "text/plain": [
       "Email Type\n",
       "Safe Email        9386\n",
       "Phishing Email    6067\n",
       "Name: count, dtype: int64"
      ]
     },
     "execution_count": 16,
     "metadata": {},
     "output_type": "execute_result"
    }
   ],
   "source": [
    "# Display the distribution of labels\n",
    "emails_df['Email Type'].value_counts()"
   ]
  },
  {
   "cell_type": "code",
   "execution_count": 17,
   "metadata": {},
   "outputs": [
    {
     "data": {
      "text/html": [
       "<div>\n",
       "<style scoped>\n",
       "    .dataframe tbody tr th:only-of-type {\n",
       "        vertical-align: middle;\n",
       "    }\n",
       "\n",
       "    .dataframe tbody tr th {\n",
       "        vertical-align: top;\n",
       "    }\n",
       "\n",
       "    .dataframe thead th {\n",
       "        text-align: right;\n",
       "    }\n",
       "</style>\n",
       "<table border=\"1\" class=\"dataframe\">\n",
       "  <thead>\n",
       "    <tr style=\"text-align: right;\">\n",
       "      <th></th>\n",
       "      <th>Unnamed: 0</th>\n",
       "      <th>Email Text</th>\n",
       "      <th>Email Type</th>\n",
       "    </tr>\n",
       "  </thead>\n",
       "  <tbody>\n",
       "    <tr>\n",
       "      <th>0</th>\n",
       "      <td>0</td>\n",
       "      <td>re : 6 . 1100 , disc : uniformitarianism , re ...</td>\n",
       "      <td>Safe Email</td>\n",
       "    </tr>\n",
       "    <tr>\n",
       "      <th>1</th>\n",
       "      <td>1</td>\n",
       "      <td>the other side of * galicismos * * galicismo *...</td>\n",
       "      <td>Safe Email</td>\n",
       "    </tr>\n",
       "    <tr>\n",
       "      <th>2</th>\n",
       "      <td>2</td>\n",
       "      <td>re : equistar deal tickets are you still avail...</td>\n",
       "      <td>Safe Email</td>\n",
       "    </tr>\n",
       "    <tr>\n",
       "      <th>3</th>\n",
       "      <td>3</td>\n",
       "      <td>\\nHello I am your hot lil horny toy.\\n    I am...</td>\n",
       "      <td>Phishing Email</td>\n",
       "    </tr>\n",
       "    <tr>\n",
       "      <th>4</th>\n",
       "      <td>4</td>\n",
       "      <td>software at incredibly low prices ( 86 % lower...</td>\n",
       "      <td>Phishing Email</td>\n",
       "    </tr>\n",
       "  </tbody>\n",
       "</table>\n",
       "</div>"
      ],
      "text/plain": [
       "   Unnamed: 0                                         Email Text  \\\n",
       "0           0  re : 6 . 1100 , disc : uniformitarianism , re ...   \n",
       "1           1  the other side of * galicismos * * galicismo *...   \n",
       "2           2  re : equistar deal tickets are you still avail...   \n",
       "3           3  \\nHello I am your hot lil horny toy.\\n    I am...   \n",
       "4           4  software at incredibly low prices ( 86 % lower...   \n",
       "\n",
       "       Email Type  \n",
       "0      Safe Email  \n",
       "1      Safe Email  \n",
       "2      Safe Email  \n",
       "3  Phishing Email  \n",
       "4  Phishing Email  "
      ]
     },
     "execution_count": 17,
     "metadata": {},
     "output_type": "execute_result"
    }
   ],
   "source": [
    "emails_df.head()"
   ]
  },
  {
   "cell_type": "code",
   "execution_count": 18,
   "metadata": {},
   "outputs": [
    {
     "name": "stdout",
     "output_type": "stream",
     "text": [
      "Text 1: gpo _ _ _ _ _ / _ \\ _ _ _ | | ( _ ) _ _ _ _ _ _ | | | | | ' _ \\ | | | | | ' _ \\ / _ \\ | | _ | | | | | | | | | | | | | | | _ _ / \\ _ _ _ / | _ | | _ | | _ | | _ | | _ | | _ | \\ _ _ _ | _ _ _ _ _ | _ \\ | | _ _ _ _ _ _ _ _ _ _ _ _ _ _ _ _ _ _ _ _ _ _ | | _ ) | | ' _ \\ / _ ` | | ' _ _ | | ' _ ` _ \\ / _ ` | / _ _ | | | | | | _ _ / | | | | | ( _ | | | | | | | | | | | ( _ | | | ( _ _ | | _ | | | _ | | _ | | _ | \\ _ _ , _ | | _ | | _ | | _ | | _ | \\ _ _ , _ | \\ _ _ _ | \\ _ _ , | | _ _ _ / _ _ _ _ _ ( _ ) _ _ _ _ _ _ _ _ _ _ _ _ _ _ _ _ _ \\ \\ / / | | / _ ` | / _ ` | | ' _ _ | / _ ` | | _ _ _ _ _ | \\ v / | | | ( _ | | | ( _ | | | | | ( _ | | \\ _ / | _ | \\ _ _ , _ | \\ _ _ , | | _ | \\ _ _ , _ | | _ _ _ / _ _ _ _ _ _ ( _ ) _ _ _ | | ( _ ) _ _ _ _ _ _ _ _ / _ _ | | | / _ ` | | | | | / _ _ | | _ _ _ _ _ | | ( _ _ | | | ( _ | | | | | | \\ _ _ \\ \\ _ _ _ | | _ | \\ _ _ , _ | | _ | | _ | | _ _ _ / _ _ _ _ _ _ _ _ _ _ _ _ _ _ _ _ _ _ _ _ _ _ \\ \\ / / / _ ` | | ' _ \\ / _ ` | \\ \\ / / | _ _ _ _ _ | | ( _ | | | | | | | ( _ | | / _ / \\ _ \\ \\ _ _ , _ | | _ | | _ | \\ _ _ , _ | / _ / \\ _ \\ _ _ _ _ _ _ _ _ _ | | ( _ ) _ _ _ _ _ _ _ _ _ _ _ _ _ \\ \\ / / / _ ` | | | | | | | | | | ' _ ` _ \\ | _ _ _ _ _ | \\ v / | ( _ | | | | | | | | _ | | | | | | | | \\ _ / \\ _ _ , _ | | _ | | _ | \\ _ _ , _ | | _ | | _ | | _ | _ _ _ _ _ _ _ _ _ _ _ _ _ _ _ _ _ _ _ _ / _ _ | / _ \\ | ' _ ` _ \\ / _ ` | | _ _ _ _ _ | \\ _ _ \\ | ( _ ) | | | | | | | | ( _ | | | _ _ _ / \\ _ _ _ / | _ | | _ | | _ | \\ _ _ , _ | _ _ _ _ _ _ _ _ _ | | _ _ _ _ _ _ _ _ _ _ _ _ _ _ _ / _ ` | | ' _ \\ / _ ` | | ' _ ` _ \\ / _ \\ | ' _ _ | / _ \\ | ( _ | | | | | | | ( _ | | | | | | | | | ( _ ) | | | | _ _ / \\ _ _ , _ | | _ | | _ | \\ _ _ , _ | | _ | | _ | | _ | \\ _ _ _ / | _ | \\ _ _ _ | . . _ _ _ _ _ _ _ _ | | ( _ ) _ _ _ | | _ _ | | _ _ _ _ _ _ _ _ _ _ _ | | / _ _ | | | | | / _ _ | | | / / | ' _ \\ / _ \\ | ' _ _ | / _ \\ | | | ( _ _ | | | | | ( _ _ | | | | | | _ _ / | | | _ _ / | _ | \\ _ _ _ | | _ | | _ | \\ _ _ _ | | _ | \\ _ \\ | _ | | _ | \\ _ _ _ | | _ | \\ _ _ _ | ( _ ) _ _ _ _ _ _ _ _ _ _ _ _ _ | | _ _ _ _ _ _ _ _ _ _ _ ( _ ) | | _ _ _ _ _ | | | | | ' _ \\ / _ _ | | | | | | ' _ \\ / _ _ | / _ _ | | ' _ _ | | | | ' _ \\ / _ \\ | | _ | | | | | | \\ _ _ \\ | | _ | | | | _ ) | \\ _ _ \\ | ( _ _ | | | | | | _ ) | | _ _ / \\ _ _ , _ | | _ | | _ | | _ _ _ / \\ _ _ , _ | | _ . _ _ / | _ _ _ / \\ _ _ _ | | _ | | _ | | _ . _ _ / \\ _ _ _ |\n",
      "\n",
      "Text 2: real time deals for october 16 th desk short term northwest short term california short term southwest short term west bom long term southwest flow date 10 / 16 / 2001 10 / 16 / 2001 10 / 16 / 2001 10 / 16 / 2001 10 / 16 / 2001 10 / 16 / 2001 10 / 16 / 2001 10 / 16 / 2001 10 / 16 / 2001 10 / 16 / 2001 deal number nothing to real time 819285 nothing to real time 819270 819264 delivery point sp - 15 sp - 15 np - 15 ctpy ca imbalance ca imbalance ca imbalance mwh 10 75 0 . 6 position long short short hours off peak peak peak and off peak price $ 16 . 20 see below short term northwest short term california short term southwest short term west bom short term west bom 1 0 . 00 0 . 00 10 . 00 0 . 00 0 . 00 0 . 00 0 . 00 0 . 00 ( 0 . 60 ) 0 . 00 2 0 . 00 0 . 00 10 . 00 0 . 00 0 . 00 0 . 00 0 . 00 0 . 00 ( 0 . 60 ) 0 . 00 3 0 . 00 0 . 00 10 . 00 0 . 00 0 . 00 0 . 00 0 . 00 0 . 00 ( 0 . 60 ) 0 . 00 4 0 . 00 0 . 00 10 . 00 0 . 00 0 . 00 0 . 00 0 . 00 0 . 00 ( 0 . 60 ) 0 . 00 5 0 . 00 0 . 00 10 . 00 0 . 00 0 . 00 0 . 00 0 . 00 0 . 00 ( 0 . 60 ) 0 . 00 6 0 . 00 0 . 00 10 . 00 0 . 00 0 . 00 0 . 00 0 . 00 0 . 00 ( 0 . 60 ) 0 . 00 7 0 . 00 0 . 00 0 . 00 0 . 00 0 . 00 0 . 00 ( 75 . 00 ) 0 . 00 ( 0 . 60 ) 0 . 00 8 0 . 00 0 . 00 0 . 00 0 . 00 0 . 00 0 . 00 ( 75 . 00 ) 0 . 00 ( 0 . 60 ) 0 . 00 9 0 . 00 0 . 00 0 . 00 0 . 00 0 . 00 0 . 00 ( 75 . 00 ) 0 . 00 ( 0 . 60 ) 0 . 00 10 0 . 00 0 . 00 0 . 00 0 . 00 0 . 00 0 . 00 ( 75 . 00 ) 0 . 00 ( 0 . 60 ) 0 . 00 11 0 . 00 0 . 00 0 . 00 0 . 00 0 . 00 0 . 00 ( 75 . 00 ) 0 . 00 ( 0 . 60 ) 0 . 00 12 0 . 00 0 . 00 0 . 00 0 . 00 0 . 00 0 . 00 ( 75 . 00 ) 0 . 00 ( 0 . 60 ) 0 . 00 13 0 . 00 0 . 00 0 . 00 0 . 00 0 . 00 0 . 00 ( 75 . 00 ) 0 . 00 ( 0 . 60 ) 0 . 00 14 0 . 00 0 . 00 0 . 00 0 . 00 0 . 00 0 . 00 ( 75 . 00 ) 0 . 00 ( 0 . 60 ) 0 . 00 15 0 . 00 0 . 00 0 . 00 0 . 00 0 . 00 0 . 00 ( 75 . 00 ) 0 . 00 ( 0 . 60 ) 0 . 00 16 0 . 00 0 . 00 0 . 00 0 . 00 0 . 00 0 . 00 ( 75 . 00 ) 0 . 00 ( 0 . 60 ) 0 . 00 17 0 . 00 0 . 00 0 . 00 0 . 00 0 . 00 0 . 00 ( 75 . 00 ) 0 . 00 ( 0 . 60 ) 0 . 00 18 0 . 00 0 . 00 0 . 00 0 . 00 0 . 00 0 . 00 ( 75 . 00 ) 0 . 00 ( 0 . 60 ) 0 . 00 19 0 . 00 0 . 00 0 . 00 0 . 00 0 . 00 0 . 00 ( 75 . 00 ) 0 . 00 ( 0 . 60 ) 0 . 00 20 0 . 00 0 . 00 0 . 00 0 . 00 0 . 00 0 . 00 ( 75 . 00 ) 0 . 00 ( 0 . 60 ) 0 . 00 21 0 . 00 0 . 00 0 . 00 0 . 00 0 . 00 0 . 00 ( 75 . 00 ) 0 . 00 ( 0 . 60 ) 0 . 00 22 0 . 00 0 . 00 0 . 00 0 . 00 0 . 00 0 . 00 ( 75 . 00 ) 0 . 00 ( 0 . 60 ) 0 . 00 23 0 . 00 0 . 00 10 . 00 0 . 00 0 . 00 0 . 00 0 . 00 0 . 00 ( 0 . 60 ) 0 . 00 24 0 . 00 0 . 00 10 . 00 0 . 00 0 . 00 0 . 00 0 . 00 0 . 00 ( 0 . 60 ) 0 . 00 total 0 . 00 0 . 00 80 . 00 0 . 00 0 . 00 0 . 00 ( 1200 . 00 ) 0 . 00 ( 14 . 40 ) 0 . 00 mwh peak prices 25 mw $ 27 . 20 25 mw $ 28 . 00 25 mw $ 27 . 11\n",
      "\n",
      "Text 3: thai lang school * * * * * announcement * * * * * the institute of language and culture for rural development , mahidol university will offer the regular and intensive courses \" thai for non-native speakers \" to the public in summer 1995 . both courses are basic courses for beginners who do not have any previous knowledge of thai . students will acquire listening and speaking skills and learn how to communicate basic needs concerning : travel , polite social interactions , ordering food , asking for directions , making purchases , and telling time . thai writing will also be introduced . regular course time : march 20 - may 8 , 1995 monday , wednesday and thursday , 9 . 00 - 12 . 00 place : pata department store , pinklao branch ( 4th floor of kfc building ) tuition : 5 , 900 baht ( covering all learning materials , excursions , and refreshments ) application : by march 15 , 1995 intensive course time : july 17 - august 4 , 1995 monday through friday , 9 . 30 - 14 . 30 place , tuition , and application : to be announced . * * * * * * * * * * * * * * * * * * * * * * * * * * * * * * * * * * * * * * * * * * * * * * * * * * * * * * * * * * * * * * * * * * * * * * * * * * * * * * application form * * * * * * thai for non-native speakers regular course 1995 title : mr . , ms . , mrs . , miss first name . . . . . . . . . . . . . . . . . . . . . . . . . . . . . . . . . . . . . . . last name . . . . . . . . . . . . . . . . . . . . . . . . . . . . . . . . . . . . . . . . institution . . . . . . . . . . . . . . . . . . . . . . . . . . . . . . . . . . . . . . . . . . . . . . . . . . . . . . . . . . . . . . . . . . . . . . . . . . . . . . . . . . . . . . . . . . . . . . . . . . . . . . . . . . . . . . . . . . . . . . . . . . . . . . . . . . . . . . . . . . . . . . . . . . . . . . . . . . . . . . . . . . . . . . . . . . . . . . . . . . . . . . . . . . . . . . . . . . . . . . . . mailing address . . . . . . . . . . . . . . . . . . . . . . . . . . . . . . . . . . . . . . . . . . . . . . . . . . . . . . . . . . . . . . . . . . . . . . . . . . . . . . . . . . . . . . . . . . . . . . . . . . . . . . . . . . . . . . . . . . . . . . . . . . . . . . . . . . . . . . . . . . . . . . . . . . . . . . . . . . . . . . . . . . . . . . . . . . . . . . . . . . . . . . . . . . . . . . . . . . . . telephone . . . . . . . . . . . . . . . . . . . . . . . . . . fax . . . . . . . . . . . . . . . . . . . . . . . . . . . . . . . . . e - mail . . . . . . . . . . . . . . . . . . . . . . . . . . . . . . . . . signature . . . . . . . . . . . . . . . . . . . . . . . . . . . . . . date . . . . . . . . . . . . . . . . . . . . . . . . . . . . . . . . . . . please submit your application form to : thai for non-native speakers institute of language and culture for rural development mahidol university at salaya nakornpathom 73170 tel . 441-9327 , 441-9514 , 441-9343 fax . 441-9517 e - mail : grsbr @ mucc . mahidol . ac . th\n",
      "\n",
      "Text 4: analysts choose \" adlu \" microcap bestock pick * * * * * we believe in opt-in policies . if you did not request this investor email , please do not reply , you will be taken off our email list automatically , or reply with remove * * adlu - otc : bb - patented , trademarked products , top management , sec form 10 reporting compliance , big four accounting and audits , international advertising campaign , digital imaging and internet applications , good investor relations , small float . this micro - cap is doing everything right ! - - - - - - - - - - - - - - - - - - - - - - - - - - - - - - - - - - - - - - - - - - - - - - - - - - - - - - - - - - - - - - - - - - - - - - - - - - - - - - - - - - - - - - - - - - - - - - - - - - - - - - - - - - - - - - - - - - - - - - - - - - dear investor , the analysts at bestockpix have chosen adlu as a micro - cap june ' 99 first pick . this swiss based , surface coating technology company is doing everything investors look for . the adlu consumer market - digital imagery and internet printing applications - is an 85 billion photographs per year target market and growing . research has found no manufacturing process which could compete directly with adlu 's patented , trademarked \" brightec \" alkaline rare-earth luminescent technology . add strong management , saatchi & saatchi advertising campaigns , full sec form 10 reporting compliance , atag ernst young accounting and audits , small share float and undervalued share price and you have all the companents for a bestockpix micro - cap \" first pick \" . - - - - - - - - - - - - - - - - - - - - - - - - - - - - - - - - - - - - - - - - - - - - - - - - - - - - - - - - - - - - - - - - - - - - - - - - - - - - - - - - - - - - - - - - - - - - - - - - - - - - - - - - - - - - - - - - - - - - - - - - - - bestockpix invites you to investigate the accuracy of our research , which is developed from publicly available sources . our ' picks ' are based on the potential for significant returns , but are not an endorsement or solicitation to purchase any stock or security . to receive a full list of bestockpix monthly , for an annual fee of $ 50 u . s . , plese reply to this e-mail with \" subscribe \" in subject line . - - - - - - - - - - - - - - - - - - - - - - - - - - - - - - - - - - - - - - - - - - - - - - - - - - - - - - - - - - - - - - - - - - - - - - - - - - - - - - - - - - - - - - - - - - - - - - - - - - - - - - - - - - - - - - - - - - - - - - - - - - bestockpix invests in ' first pick ' recomendations and currently owns shares of adlu common stock . - - - - - - - - - - - - - - - - - - - - - - - - - - - - - - - - - - - - - - - - - - - - - - - - - - - - - - - - - - - - - - - - - - - - - - - - - - - - - - - - - - - - - - - - - - - - - - - - - - - - - - - - - - - - - - - - - - - - - - - - - this ad is being sent in compliance with senate bill 1618 , title 3 , section 301 . http : / / www . senate . gov / ~ murkowski / commercialemail / s771index . html\n",
      "\n",
      "Text 5: tag + workshop registration and accommodations registration and accommodation information for the tag + workshop ( aug . 1 - 3 ) and tutorials ( july 28-31 ) to be held at the institute for research in cognitive science in philadelphia , pa is now available on the web at : http : / / www . cis . upenn . edu / ~ ircs / mol / tag98 . html . for your convenience in registering , the registration form is also included at the end of this message . best regards , jennifer macdougall tag + workshop assistant - - - - - - - - - - - - - - - - - - - - - - - - - - - - - - - - - - - - - - - - - - - - - - - - - - - - - - - - - - - - - - - - - - - - - registration form for tag + 1998 workshop and tutorials name : _ _ _ _ _ _ _ _ _ _ _ _ _ _ _ _ _ _ _ _ _ _ _ _ _ _ _ _ _ _ _ _ _ _ _ _ _ _ _ _ _ _ _ _ _ _ _ _ mailing address : _ _ _ _ _ _ _ _ _ _ _ _ _ _ _ _ _ _ _ _ _ _ _ _ _ _ _ _ _ _ _ _ _ _ _ _ _ _ _ _ _ _ _ _ _ _ _ _ _ _ _ _ _ _ _ _ _ _ _ _ _ _ _ _ _ _ _ _ _ _ _ _ _ _ _ _ _ _ _ _ _ _ _ _ _ _ _ _ _ _ _ _ _ _ _ _ _ _ _ _ _ _ _ _ _ _ _ _ _ _ _ _ _ _ _ _ _ _ _ _ _ _ _ _ _ _ _ _ _ _ _ _ _ _ _ _ _ _ _ _ _ _ _ _ _ _ _ _ _ _ _ _ _ _ _ _ _ _ _ _ _ _ _ _ _ _ _ _ _ _ _ _ _ _ _ _ _ _ _ _ _ _ _ _ _ _ _ _ _ _ _ _ _ _ _ _ _ _ _ _ _ _ _ _ _ _ _ _ _ _ _ _ _ _ _ _ telephone : _ _ _ _ _ _ _ _ _ _ _ _ _ _ _ _ _ _ _ _ _ _ _ _ _ _ _ _ _ _ _ _ _ _ _ _ _ _ _ _ _ _ _ fax : _ _ _ _ _ _ _ _ _ _ _ _ _ _ _ _ _ _ _ _ _ _ _ _ _ _ _ _ _ _ _ _ _ _ _ _ _ _ _ _ _ _ _ _ _ _ _ _ _ email : _ _ _ _ _ _ _ _ _ _ _ _ _ _ _ _ _ _ _ _ _ _ _ _ _ _ _ _ _ _ _ _ _ _ _ _ _ _ _ _ _ _ _ _ _ _ _ citizenship : _ _ _ _ _ _ _ _ _ _ _ _ if you are a non - us participant , what kind of visa have you obtained to come here ? b - 1 visa ( tourist business ) _ _ _ _ _ b - 2 visa ( tourist pleasure ) _ _ _ _ _ j - 1 visa _ _ _ _ _ f - 1 visa _ _ _ _ _ other ( please specify ) _ _ _ _ _ _ _ _ _ _ _ _ _ _ _ _ _ _ _ _ _ _ _ will you be attending : workshop ( aug . 1st - 3rd ) _ _ _ _ tutorials ( july 28th - 31st ) _ _ _ _ both _ _ _ _ are you a student ? yes _ _ _ _ _ no _ _ _ _ _ are you receiving a stipend ? yes _ _ _ _ no _ _ _ _ do you need dorm housing ? yes _ _ _ _ no _ _ _ _ _ for how many nights ? _ _ _ _ please send or fax your completed registration forms to : jennifer macdougall institute for research in cognitive science suite 400a , 3401 walnut street philadelphia , pa 19104-6228 + 1-215 - 573-9247\n",
      "\n",
      "Text 6: re : deal 34342 daren , i am trying to make up the gas for ena deals on meter 1552 , 8024 , 1062 , ( deals 240061 , 378904 , 394489 , 487588 ) . per anita , these need to be kept whole . i have the option of a buyback or swing on 1373 . . . . but , there is not enough gas at meter 1373 to do this . please let me know if there is another way i can achieve this . thu - - - - - - - - - - - - - - - - - - - - - - forwarded by thu t nguyen / hou / ect on 03 / 14 / 2001 01 : 11 pm - - - - - - - - - - - - - - - - - - - - - - - - - - - aimee lannou 03 / 14 / 2001 12 : 36 pm to : thu t nguyen / hou / ect @ ect cc : subject : re : deal 34342 daren ' s response . - - - - - - - - - - - - - - - - - - - - - - forwarded by aimee lannou / hou / ect on 03 / 14 / 2001 12 : 36 pm - - - - - - - - - - - - - - - - - - - - - - - - - - - daren j farmer 03 / 14 / 2001 12 : 30 pm to : aimee lannou / hou / ect @ ect cc : subject : re : deal 34342 we have a buyback under hpl ( # 586534 ) . ena had only 7 , 000 / day scheduled at mtr 1373 in feb . in reviewing the daily volumes in pops , i didn ' t see any days with flow under 18 , 000 . so , we should not need a buyback for ena . any shortages should be allocated to the hpl ticket . d aimee lannou 03 / 14 / 2001 11 : 03 am to : daren j farmer / hou / ect @ ect cc : subject : re : deal 34342 daren - thu has asked if i can extend deal 343421 thru feb . ' 01 . i told her i didn ' t have the authority to do this . it is for equistar . it looks like it is a term deal expiring jan . ' 01 . she wants it added to keep the ena deal whole . what do you suggest ? al - - - - - - - - - - - - - - - - - - - - - - forwarded by aimee lannou / hou / ect on 03 / 14 / 2001 10 : 58 am - - - - - - - - - - - - - - - - - - - - - - - - - - - to : aimee lannou / hou / ect @ ect cc : subject : re : deal 34342 aimee , this is the deal for equistar . there is not enough gas at meter 1373 to keep the ena deal whole . i need this deal to create buyback . this was out there last month and anita told me to get the deal extended . let me know if there is another way . thu aimee lannou 03 / 14 / 2001 10 : 23 am to : thu t nguyen / hou / ect @ ect cc : subject : re : deal 34342 why do you need it extended ? this deal may not be able to get extended . which meter are you having problems with ? to : aimee lannou / hou / ect @ ect cc : subject : re : deal 34342 aimee , i am so sorry . . . i don ' t know what ' s wrong with me . the deal is 343421 . if you can ' t extend this deal please let me know . thanks thu aimee lannou 03 / 14 / 2001 07 : 59 am to : thu t nguyen / hou / ect @ ect cc : edward terry / hou / ect @ ect , juliann kemp / enron @ enronxgate subject : re : deal 34342 i don ' t have access to this ticket . it is an im canada ticket . from : thu t nguyen 03 / 13 / 2001 05 : 45 pm to : aimee lannou / hou / ect @ ect cc : subject : deal 34342 aimee , please extend the deal above to feb 01 .\n",
      "\n",
      "Text 7: re : deal 34342 daren , i am trying to make up the gas for ena deals on meter 1552 , 8024 , 1062 , ( deals 240061 , 378904 , 394489 , 487588 ) . per anita , these need to be kept whole . i have the option of a buyback or swing on 1373 . . . . but , there is not enough gas at meter 1373 to do this . please let me know if there is another way i can achieve this . thu - - - - - - - - - - - - - - - - - - - - - - forwarded by thu t nguyen / hou / ect on 03 / 14 / 2001 01 : 11 pm - - - - - - - - - - - - - - - - - - - - - - - - - - - aimee lannou 03 / 14 / 2001 12 : 36 pm to : thu t nguyen / hou / ect @ ect cc : subject : re : deal 34342 daren ' s response . - - - - - - - - - - - - - - - - - - - - - - forwarded by aimee lannou / hou / ect on 03 / 14 / 2001 12 : 36 pm - - - - - - - - - - - - - - - - - - - - - - - - - - - daren j farmer 03 / 14 / 2001 12 : 30 pm to : aimee lannou / hou / ect @ ect cc : subject : re : deal 34342 we have a buyback under hpl ( # 586534 ) . ena had only 7 , 000 / day scheduled at mtr 1373 in feb . in reviewing the daily volumes in pops , i didn ' t see any days with flow under 18 , 000 . so , we should not need a buyback for ena . any shortages should be allocated to the hpl ticket . d aimee lannou 03 / 14 / 2001 11 : 03 am to : daren j farmer / hou / ect @ ect cc : subject : re : deal 34342 daren - thu has asked if i can extend deal 343421 thru feb . ' 01 . i told her i didn ' t have the authority to do this . it is for equistar . it looks like it is a term deal expiring jan . ' 01 . she wants it added to keep the ena deal whole . what do you suggest ? al - - - - - - - - - - - - - - - - - - - - - - forwarded by aimee lannou / hou / ect on 03 / 14 / 2001 10 : 58 am - - - - - - - - - - - - - - - - - - - - - - - - - - - to : aimee lannou / hou / ect @ ect cc : subject : re : deal 34342 aimee , this is the deal for equistar . there is not enough gas at meter 1373 to keep the ena deal whole . i need this deal to create buyback . this was out there last month and anita told me to get the deal extended . let me know if there is another way . thu aimee lannou 03 / 14 / 2001 10 : 23 am to : thu t nguyen / hou / ect @ ect cc : subject : re : deal 34342 why do you need it extended ? this deal may not be able to get extended . which meter are you having problems with ? to : aimee lannou / hou / ect @ ect cc : subject : re : deal 34342 aimee , i am so sorry . . . i don ' t know what ' s wrong with me . the deal is 343421 . if you can ' t extend this deal please let me know . thanks thu aimee lannou 03 / 14 / 2001 07 : 59 am to : thu t nguyen / hou / ect @ ect cc : edward terry / hou / ect @ ect , juliann kemp / enron @ enronxgate subject : re : deal 34342 i don ' t have access to this ticket . it is an im canada ticket . from : thu t nguyen 03 / 13 / 2001 05 : 45 pm to : aimee lannou / hou / ect @ ect cc : subject : deal 34342 aimee , please extend the deal above to feb 01 .\n",
      "\n",
      "Text 8: eol and enpower data for september 26 th eol deals from : 9 / 1 / 2001 to : 9 / 26 / 2001 ` enpower from : 9 / 1 / 2001 to : 9 / 26 / 2001 desk total deals total mwh desk total deals total mwh epmi long term california 484 9 , 632 , 525 epmi long term california 98 4 , 273 , 805 epmi long term northwest 358 5 , 573 , 000 epmi long term northwest 413 15 , 115 , 061 epmi long term southwest 427 6 , 818 , 380 epmi long term southwest 277 22 , 328 , 990 epmi short term california 2 , 237 1 , 979 , 159 epmi short term california 639 1 , 660 , 125 epmi short term northwest 1 , 202 828 , 800 epmi short term northwest 572 623 , 409 epmi short term southwest 1 , 710 1 , 420 , 050 epmi short term southwest 843 2 , 400 , 648 real time 1 , 112 27 , 900 real time 642 70 , 882 grand total 7 , 530 26 , 279 , 814 grand total 3 , 484 46 , 472 , 920 eol deals from : 9 / 26 / 2001 to : 9 / 26 / 2001 enpower from : 9 / 26 / 2001 to : 9 / 26 / 2001 desk total deals total mwh desk total deals total mwh epmi long term california 30 568 , 800 epmi long term california 4 99 , 600 epmi long term northwest 17 236 , 400 epmi long term northwest 34 1 , 328 , 096 epmi long term southwest 12 251 , 225 epmi long term southwest 33 4 , 538 , 580 epmi short term california 173 363 , 575 epmi short term california 49 202 , 368 epmi short term northwest 101 66 , 800 epmi short term northwest 42 106 , 856 epmi short term southwest 89 170 , 450 epmi short term southwest 47 177 , 150 real time 66 1 , 675 real time 45 4 , 457 grand total 488 1 , 658 , 925 grand total 254 6 , 457 , 107 ice volumes from : 9 / 26 / 2001 to : 9 / 26 / 2001 delivery point total mwh epmi mwh price mid c ( op , next day ) 400 0 $ 16 . 75 mid c ( p , next day ) 2 , 400 800 $ 20 . 50 mid c ( p , oct - 01 ) 10 , 800 0 $ 23 . 50 mid c ( p , nov - 01 ) 30 , 000 10 , 000 $ 29 . 92 mid c ( p , jan - 02 ) 10 , 400 0 $ 37 . 25 mid c ( p , ql 02 ) 30 , 400 0 $ 32 . 25 np - 15 ( p , next day ) 800 800 $ 25 . 00 np - 15 ( p , nov - 01 ) 20 , 000 10 , 000 $ 29 . 88 palo ( p , next day ) 9 , 600 0 $ 26 . 89 palo ( op , next day ) 800 800 $ 15 . 07 palo ( op , oct - 01 ) 7 , 825 0 $ 17 . 00 palo ( p , oct - 01 ) 172 , 800 10 , 800 $ 26 . 11 palo ( p , nov - 01 ) 50 , 000 10 , 000 $ 25 . 80 palo ( p , dec - 01 ) 20 , 000 0 $ 30 . 75 palo ( p , jan - 02 ) 20 , 800 0 $ 30 . 50 palo ( p , ql 02 ) 30 , 400 0 $ 29 . 50 palo ( p , q 4 02 ) 30 , 800 0 $ 33 . 00 sp - 15 ( op , next day ) 1 , 200 0 $ 16 . 58 sp - 15 ( p , next day ) 6 , 400 800 $ 25 . 03 sp - 15 ( p , oct - 01 ) 21 , 600 0 $ 25 . 05 sp - 15 ( p , nov - 01 ) 10 , 000 10 , 000 $ 27 . 50 sp - 15 ( p , dec - 01 ) 20 , 000 0 $ 32 . 88 sp - 15 ( p , jan - 02 ) 10 , 400 0 $ 33 . 00 sp - 15 ( p , ql 02 ) 30 , 400 0 $ 33 . 00 grand total 548 , 225 54 , 000 $ 642 . 71\n",
      "\n",
      "Text 9: create a new credit file legally in 30 days ! ! ! how to create a new credit file in 30 days ! enjoy aaa credit in 1 month , using a 100 % legal method ! discover how to create a brand new credit file for yourself by taking advantage of the laws that governs the credit reporting agencies ! this unique and virtually unknown program is 100 % legal , and can work for you every time . this is your chance for a new start ! please understand : it does not matter what your credit past is , and best of all , the process is free ! these are the very same credit secrets that celebrities have used for years . these are the secrets that the credit bureaus don ' t want you to ever discover ! you see , credit bureaus and the government tell you that you are stuck with your credit history unless there are errors . in fact , it has been reported that as many as 70 % of all americans have problems with negative or incorrect information on their credit report . unfortunately , until now there has n't been a resource to turn to for easy-to - understand , unbiased information about how to get out of your messy credit . but , armed with this secret information , there are many things that you can do to improve your past credit record within the law ! after reading this book , you will start getting new credit cards and other lines of credit , to lease a car , get pre-approved credit card offers , or even get a mortgage on your dream house ! our proven techniques are detailed in a clear , step-by - step process . there is no guesswork because we lay out your plan for success in a way that will help you to change your credit record forever . just imagine : not having to be embarrassed about your credit problems anymore . but please do n't hesitate ! as we said , this is your chance for a fresh , new start ! new credit cards new car loans new bank loans new mortgage loans sparkling new aaa credit all this in just 30 days ! mail this or xanadu 1738 e . broadway ste . 412 long beach , ca . 90802 for more info you can reach our fax - on - demand center at : ( 562 ) 495-2784 _ _ _ please rush me your report on creating aaa credit in 30 days ! i want to receive the report at $ 12 . 50 last / first name _ _ _ _ _ _ _ _ _ _ _ _ _ _ _ _ _ _ _ _ _ _ _ _ _ _ _ _ _ _ _ _ _ _ _ _ _ _ _ _ _ _ _ _ _ _ _ _ _ _ _ _ _ _ _ _ _ _ _ _ _ _ _ _ _ _ street address _ _ _ _ _ _ _ _ _ _ _ _ _ _ _ _ _ _ _ _ _ _ _ _ _ _ _ _ _ _ _ _ _ _ _ _ _ _ _ _ _ _ _ _ _ _ _ _ _ _ _ _ _ _ _ _ _ _ _ _ _ _ _ _ _ _ city / state / zip _ _ _ _ _ _ _ _ _ _ _ _ _ _ _ _ _ _ _ _ _ _ _ _ _ _ _ _ _ _ _ _ _ _ _ _ _ _ _ _ _ _ _ _ _ _ _ _ _ _ _ _ _ _ _ _ _ _ _ _ _ _ _ _ _ _ email address _ _ _ _ _ _ _ _ _ _ _ _ _ _ _ _ _ _ _ _ _ _ _ _ _ _ _ _ _ _ _ _ _ _ _ _ _ _ _ _ _ _ _ _ _ _ _ _ _ _ _ _ _ _ _ _ _ _ _ _ _ _ _ _ _ _ phone no . _ _ _ _ _ _ _ _ _ _ _ _ _ _ _ _ _ _ _ _ _ _ _ _ _ _ _ _ _ _ _ _ _ _ _ _ _ _ _ _ _ _ _ _ _ _ _ _ _ _ _ _ _ _ _ _ _ _ _ _ _ _ _ _ _ _ _ _ check _ _ m . o . ( payable to : xanadu )\n",
      "\n",
      "Text 10: sap reporting workshops over the last two weeks , the following number of people from the indicated business units have attended the sap reporting workshops . in addition , approximately 75 people attended the reporting workshops held in london . ees 18 ena 118 gf 7 gp 8 gpg 125 total : 276 we have continued to refine our approach to these workshops , and the responses indicate that we are doing a lot better . we asked the 276 participants : \" on a scale of 1 to 10 , how effectively did the workshop . . . . . . 1 . help you learn something new ? 2 . increase your comfort level with extracting data ? 3 . make sap standard reporting more useful ? 4 . use activities and discussions to contribute to your learning ? 5 . better prepared to do your job ? \" here are the average responses , by business unit and by specific reporting workshop overall evaluations by business unit helped me increased made sap contributed better prepared bu learn my comfort std . reporting to my me to do something new level more useful learning my job ees 8 . 28 8 . 17 8 . 17 8 . 28 8 . 61 ena 7 . 58 7 . 12 7 . 38 7 . 63 7 . 21 gf 9 . 00 9 . 43 9 . 29 9 . 14 9 . 14 gp 8 . 63 8 . 38 8 . 75 9 . 00 8 . 75 gpg 7 . 94 7 . 65 7 . 65 7 . 71 7 . 70 overall evaluations by reporting workshop learn increase reporting contributed better prepared bu curriculum something comfort more to my me to do new level useful learning my job ees am & ps 8 . 67 9 . 00 8 . 33 9 . 00 9 . 00 ees ap 7 . 67 8 . 67 8 . 67 8 . 67 8 . 67 ees ap & ar 10 . 00 10 . 00 8 . 67 9 . 33 10 . 00 ees design & data flow 7 . 78 7 . 11 7 . 78 7 . 56 8 . 00 ena active excel 8 . 90 8 . 34 8 . 52 8 . 59 8 . 41 ena am 7 . 30 6 . 90 6 . 80 6 . 80 6 . 90 ena ap & ar 8 . 88 7 . 88 8 . 38 8 . 50 8 . 50 ena design & data flow 6 . 15 5 . 80 6 . 27 6 . 60 5 . 80 ena gl 8 . 00 8 . 00 7 . 80 8 . 20 7 . 60 ena gl cca & io 8 . 72 8 . 39 8 . 28 8 . 78 8 . 50 gf cca & gl 9 . 00 9 . 33 9 . 33 9 . 67 9 . 33 gf fx / intercompany 9 . 00 9 . 50 9 . 25 8 . 75 9 . 00 gp design & data flow 8 . 20 8 . 00 8 . 40 9 . 00 8 . 60 gp gl pca & cca 9 . 33 9 . 00 9 . 33 9 . 00 9 . 00 gpg am & ps 8 . 75 8 . 25 8 . 25 8 . 75 8 . 50 gpg ap 8 . 70 8 . 70 8 . 70 8 . 40 8 . 50 gpg ap & ar 8 . 77 8 . 38 8 . 31 9 . 00 9 . 08 gpg ap cca & io 9 . 20 9 . 20 9 . 40 8 . 60 9 . 20 gpg ar 7 . 80 7 . 47 7 . 73 7 . 73 7 . 60 gpg design & data flow 7 . 42 6 . 73 6 . 82 6 . 76 6 . 69 gpg gl 7 . 18 7 . 09 7 . 09 7 . 09 7 . 18 gpg gl & io 7 . 82 7 . 73 7 . 73 7 . 55 7 . 91 gpg ic 7 . 80 6 . 80 7 . 60 7 . 40 8 . 00 gpg ic & cca 7 . 25 9 . 00 6 . 75 8 . 50 8 . 50 gpg im & ps 8 . 33 8 . 22 8 . 11 8 . 56 7 . 78 gpg io ic & cca 8 . 67 9 . 00 8 . 78 8 . 78 8 . 67 thanks for everyone ' s participation and keep the feedback coming !\n",
      "\n"
     ]
    }
   ],
   "source": [
    "# import pandas as pd\n",
    "\n",
    "# Sample train_df DataFrame\n",
    "# train_df = pd.read_csv('train_dataset.csv')  # Uncomment if you are loading from a CSV\n",
    "\n",
    "# Ensure 'text' column exists\n",
    "if 'Email Text' in emails_df.columns:\n",
    "    # Step 1: Calculate the number of words in each row\n",
    "    emails_df['word_count'] = emails_df['Email Text'].apply(lambda x: len(str(x).split()))\n",
    "\n",
    "    # Step 2: Sort the DataFrame based on the word count in descending order\n",
    "    train_df_sorted = emails_df.sort_values(by='word_count', ascending=False)\n",
    "\n",
    "    # Step 3: Select the top 10 rows\n",
    "    top_10_rows = train_df_sorted.head(10)\n",
    "\n",
    "    # Output the text content within those rows\n",
    "    top_10_texts = top_10_rows['Email Text'].tolist()\n",
    "\n",
    "    for i, text in enumerate(top_10_texts, 1):\n",
    "        print(f\"Text {i}: {text}\\n\")\n",
    "else:\n",
    "    print(\"The 'text' column is not present in the DataFrame.\")"
   ]
  },
  {
   "cell_type": "markdown",
   "metadata": {},
   "source": [
    "### **2. Data Preprocessing**"
   ]
  },
  {
   "cell_type": "code",
   "execution_count": 19,
   "metadata": {},
   "outputs": [],
   "source": [
    "# Drop the unnamed column\n",
    "emails_df = emails_df.drop(columns=['Unnamed: 0'])\n"
   ]
  },
  {
   "cell_type": "code",
   "execution_count": 20,
   "metadata": {},
   "outputs": [],
   "source": [
    "# Drop the unnamed column\n",
    "emails_df = emails_df.drop(columns=['word_count'])"
   ]
  },
  {
   "cell_type": "code",
   "execution_count": 21,
   "metadata": {},
   "outputs": [],
   "source": [
    "# Replace 'Safe Email' with 0 and 'Phishing Email' with 1\n",
    "emails_df['Email Type'] = emails_df['Email Type'].replace({'Safe Email': '0', 'Phishing Email': '1'})"
   ]
  },
  {
   "cell_type": "code",
   "execution_count": 22,
   "metadata": {},
   "outputs": [],
   "source": [
    "# Rename the column from 'Email Type' to 'label'\n",
    "emails_df = emails_df.rename(columns={'Email Type': 'label'})"
   ]
  },
  {
   "cell_type": "code",
   "execution_count": 23,
   "metadata": {},
   "outputs": [],
   "source": [
    "# Rename the column from 'Email Text' to 'text'\n",
    "emails_df = emails_df.rename(columns={'Email Text': 'text'})"
   ]
  },
  {
   "cell_type": "code",
   "execution_count": 24,
   "metadata": {},
   "outputs": [
    {
     "data": {
      "text/html": [
       "<div>\n",
       "<style scoped>\n",
       "    .dataframe tbody tr th:only-of-type {\n",
       "        vertical-align: middle;\n",
       "    }\n",
       "\n",
       "    .dataframe tbody tr th {\n",
       "        vertical-align: top;\n",
       "    }\n",
       "\n",
       "    .dataframe thead th {\n",
       "        text-align: right;\n",
       "    }\n",
       "</style>\n",
       "<table border=\"1\" class=\"dataframe\">\n",
       "  <thead>\n",
       "    <tr style=\"text-align: right;\">\n",
       "      <th></th>\n",
       "      <th>text</th>\n",
       "      <th>label</th>\n",
       "    </tr>\n",
       "  </thead>\n",
       "  <tbody>\n",
       "    <tr>\n",
       "      <th>0</th>\n",
       "      <td>re : 6 . 1100 , disc : uniformitarianism , re ...</td>\n",
       "      <td>0</td>\n",
       "    </tr>\n",
       "    <tr>\n",
       "      <th>1</th>\n",
       "      <td>the other side of * galicismos * * galicismo *...</td>\n",
       "      <td>0</td>\n",
       "    </tr>\n",
       "    <tr>\n",
       "      <th>2</th>\n",
       "      <td>re : equistar deal tickets are you still avail...</td>\n",
       "      <td>0</td>\n",
       "    </tr>\n",
       "    <tr>\n",
       "      <th>3</th>\n",
       "      <td>\\nHello I am your hot lil horny toy.\\n    I am...</td>\n",
       "      <td>1</td>\n",
       "    </tr>\n",
       "    <tr>\n",
       "      <th>4</th>\n",
       "      <td>software at incredibly low prices ( 86 % lower...</td>\n",
       "      <td>1</td>\n",
       "    </tr>\n",
       "    <tr>\n",
       "      <th>6</th>\n",
       "      <td>On Sun, Aug 11, 2002 at 11:17:47AM +0100, wint...</td>\n",
       "      <td>0</td>\n",
       "    </tr>\n",
       "    <tr>\n",
       "      <th>8</th>\n",
       "      <td>we owe you lots of money dear applicant , afte...</td>\n",
       "      <td>1</td>\n",
       "    </tr>\n",
       "    <tr>\n",
       "      <th>9</th>\n",
       "      <td>re : coastal deal - with exxon participation u...</td>\n",
       "      <td>0</td>\n",
       "    </tr>\n",
       "    <tr>\n",
       "      <th>10</th>\n",
       "      <td>make her beg you to give it to her everynight ...</td>\n",
       "      <td>1</td>\n",
       "    </tr>\n",
       "    <tr>\n",
       "      <th>11</th>\n",
       "      <td>URL: http://www.newsisfree.com/click/-5,830431...</td>\n",
       "      <td>0</td>\n",
       "    </tr>\n",
       "  </tbody>\n",
       "</table>\n",
       "</div>"
      ],
      "text/plain": [
       "                                                 text label\n",
       "0   re : 6 . 1100 , disc : uniformitarianism , re ...     0\n",
       "1   the other side of * galicismos * * galicismo *...     0\n",
       "2   re : equistar deal tickets are you still avail...     0\n",
       "3   \\nHello I am your hot lil horny toy.\\n    I am...     1\n",
       "4   software at incredibly low prices ( 86 % lower...     1\n",
       "6   On Sun, Aug 11, 2002 at 11:17:47AM +0100, wint...     0\n",
       "8   we owe you lots of money dear applicant , afte...     1\n",
       "9   re : coastal deal - with exxon participation u...     0\n",
       "10  make her beg you to give it to her everynight ...     1\n",
       "11  URL: http://www.newsisfree.com/click/-5,830431...     0"
      ]
     },
     "execution_count": 24,
     "metadata": {},
     "output_type": "execute_result"
    }
   ],
   "source": [
    "# Display the first 10 rows to confirm the column has been dropped\n",
    "emails_df.head(10)"
   ]
  },
  {
   "cell_type": "code",
   "execution_count": 25,
   "metadata": {},
   "outputs": [
    {
     "name": "stdout",
     "output_type": "stream",
     "text": [
      "(15453, 2)\n"
     ]
    }
   ],
   "source": [
    "print(emails_df.shape)"
   ]
  },
  {
   "cell_type": "code",
   "execution_count": 36,
   "metadata": {},
   "outputs": [
    {
     "data": {
      "image/png": "[encoded data removed]",
      "text/plain": [
       "<Figure size 640x480 with 1 Axes>"
      ]
     },
     "metadata": {},
     "output_type": "display_data"
    }
   ],
   "source": [
    "# Set the aesthetic style of the plots\n",
    "sns.set(style=\"darkgrid\")\n",
    "\n",
    "# Create a count plot of the 'Email Type' column\n",
    "# plt.figure(figsize=(10, 10))\n",
    "# sns.countplot(x='label', data=emails_df, palette='viridis')\n",
    "sns.countplot(x = 'label', data = emails_df, palette = 'Set1')\n",
    "\n",
    "# Set the title and labels\n",
    "# plt.title('Distribution of Email Types', fontsize=20)\n",
    "# plt.xlabel('label', fontsize=20)\n",
    "# plt.ylabel('Count', fontsize=20)\n",
    "\n",
    "# Display the plot\n",
    "plt.show()"
   ]
  },
  {
   "cell_type": "markdown",
   "metadata": {},
   "source": [
    "### **3. Balancing Data**"
   ]
  },
  {
   "cell_type": "code",
   "execution_count": 27,
   "metadata": {},
   "outputs": [],
   "source": [
    "# Separate the classes\n",
    "phishing_emails = emails_df[emails_df['label'] == '1']\n",
    "legitimate_emails = emails_df[emails_df['label'] == '0']\n",
    "\n",
    "# Downsample the majority class\n",
    "legitimate_emails_downsampled = legitimate_emails.sample(len(phishing_emails), random_state=42)\n",
    "\n",
    "# Combine the balanced datasets\n",
    "emails_df = pd.concat([phishing_emails, legitimate_emails_downsampled])"
   ]
  },
  {
   "cell_type": "code",
   "execution_count": 28,
   "metadata": {},
   "outputs": [
    {
     "name": "stdout",
     "output_type": "stream",
     "text": [
      "label\n",
      "1    6067\n",
      "0    6067\n",
      "Name: count, dtype: int64\n"
     ]
    },
    {
     "data": {
      "text/plain": [
       "<Axes: xlabel='label', ylabel='count'>"
      ]
     },
     "execution_count": 28,
     "metadata": {},
     "output_type": "execute_result"
    },
    {
     "data": {
      "image/png": "[encoded data removed]",
      "text/plain": [
       "<Figure size 640x480 with 1 Axes>"
      ]
     },
     "metadata": {},
     "output_type": "display_data"
    }
   ],
   "source": [
    "# Check the distribution of labels\n",
    "print(emails_df['label'].value_counts())\n",
    "\n",
    "sns.countplot(x = 'label', data = emails_df, palette = 'Set1')"
   ]
  },
  {
   "cell_type": "markdown",
   "metadata": {},
   "source": [
    "### **4. Text Preprocessing**"
   ]
  },
  {
   "cell_type": "markdown",
   "metadata": {},
   "source": [
    "#### 4.1. Clean HTML Content: Remove or escape special characters and HTML tags.\n",
    "#### 4.2. Replace Escape Sequences: Ensure that newline characters and other escape sequences are handled properly."
   ]
  },
  {
   "cell_type": "code",
   "execution_count": 36,
   "metadata": {},
   "outputs": [
    {
     "name": "stderr",
     "output_type": "stream",
     "text": [
      "/var/folders/zg/35ghknm958b4ltq43qlvw2dh0000gn/T/ipykernel_36743/225815545.py:4: MarkupResemblesLocatorWarning: The input looks more like a filename than markup. You may want to open this file and pass the filehandle into Beautiful Soup.\n",
      "  clean_text = BeautifulSoup(raw_html, \"html.parser\").get_text()\n",
      "/var/folders/zg/35ghknm958b4ltq43qlvw2dh0000gn/T/ipykernel_36743/225815545.py:4: MarkupResemblesLocatorWarning: The input looks more like a URL than markup. You may want to use an HTTP client like requests to get the document behind the URL, and feed that document to Beautiful Soup.\n",
      "  clean_text = BeautifulSoup(raw_html, \"html.parser\").get_text()\n"
     ]
    }
   ],
   "source": [
    "# Function to clean HTML content\n",
    "def clean_html(raw_html):\n",
    "    # Remove HTML tags\n",
    "    clean_text = BeautifulSoup(raw_html, \"html.parser\").get_text()\n",
    "    # Escape HTML entities\n",
    "    clean_text = html.escape(clean_text)\n",
    "    return clean_text\n",
    "\n",
    "# Apply the function to clean the 'Email Text' column\n",
    "emails_df['cleaned_text'] = emails_df['text'].apply(clean_html)"
   ]
  },
  {
   "cell_type": "code",
   "execution_count": 37,
   "metadata": {},
   "outputs": [],
   "source": [
    "# Function to replace escape sequences\n",
    "def replace_escape_sequences(text):\n",
    "    # Replace newline characters\n",
    "    text = text.replace('\\n', ' ')\n",
    "    # Replace other escape sequences as needed\n",
    "    text = text.replace('\\r', ' ').replace('\\t', ' ')\n",
    "    return text\n",
    "\n",
    "# Apply the function to clean escape sequences in the 'cleaned_text' column\n",
    "emails_df['cleaned_text'] = emails_df['cleaned_text'].apply(replace_escape_sequences)"
   ]
  },
  {
   "cell_type": "code",
   "execution_count": null,
   "metadata": {},
   "outputs": [],
   "source": [
    "# pd.set_option('display.max_colwidth', None)\n",
    "pd.reset_option('display.max_colwidth')"
   ]
  },
  {
   "cell_type": "code",
   "execution_count": 38,
   "metadata": {},
   "outputs": [
    {
     "name": "stdout",
     "output_type": "stream",
     "text": [
      "                                                text  \\\n",
      "0  re : 6 . 1100 , disc : uniformitarianism , re ...   \n",
      "1  the other side of * galicismos * * galicismo *...   \n",
      "2  re : equistar deal tickets are you still avail...   \n",
      "3  \\nHello I am your hot lil horny toy.\\n    I am...   \n",
      "4  software at incredibly low prices ( 86 % lower...   \n",
      "\n",
      "                                        cleaned_text  \n",
      "0  re : 6 . 1100 , disc : uniformitarianism , re ...  \n",
      "1  the other side of * galicismos * * galicismo *...  \n",
      "2  re : equistar deal tickets are you still avail...  \n",
      "3   Hello I am your hot lil horny toy.     I am t...  \n",
      "4  software at incredibly low prices ( 86 % lower...  \n"
     ]
    }
   ],
   "source": [
    "# Verify the changes\n",
    "print(emails_df[['text', 'cleaned_text']].head())"
   ]
  },
  {
   "cell_type": "code",
   "execution_count": 39,
   "metadata": {},
   "outputs": [
    {
     "data": {
      "text/html": [
       "<div>\n",
       "<style scoped>\n",
       "    .dataframe tbody tr th:only-of-type {\n",
       "        vertical-align: middle;\n",
       "    }\n",
       "\n",
       "    .dataframe tbody tr th {\n",
       "        vertical-align: top;\n",
       "    }\n",
       "\n",
       "    .dataframe thead th {\n",
       "        text-align: right;\n",
       "    }\n",
       "</style>\n",
       "<table border=\"1\" class=\"dataframe\">\n",
       "  <thead>\n",
       "    <tr style=\"text-align: right;\">\n",
       "      <th></th>\n",
       "      <th>text</th>\n",
       "      <th>label</th>\n",
       "      <th>cleaned_text</th>\n",
       "    </tr>\n",
       "  </thead>\n",
       "  <tbody>\n",
       "    <tr>\n",
       "      <th>0</th>\n",
       "      <td>re : 6 . 1100 , disc : uniformitarianism , re ...</td>\n",
       "      <td>0</td>\n",
       "      <td>re : 6 . 1100 , disc : uniformitarianism , re ...</td>\n",
       "    </tr>\n",
       "    <tr>\n",
       "      <th>1</th>\n",
       "      <td>the other side of * galicismos * * galicismo *...</td>\n",
       "      <td>0</td>\n",
       "      <td>the other side of * galicismos * * galicismo *...</td>\n",
       "    </tr>\n",
       "    <tr>\n",
       "      <th>2</th>\n",
       "      <td>re : equistar deal tickets are you still avail...</td>\n",
       "      <td>0</td>\n",
       "      <td>re : equistar deal tickets are you still avail...</td>\n",
       "    </tr>\n",
       "    <tr>\n",
       "      <th>3</th>\n",
       "      <td>\\nHello I am your hot lil horny toy.\\n    I am...</td>\n",
       "      <td>1</td>\n",
       "      <td>Hello I am your hot lil horny toy.     I am t...</td>\n",
       "    </tr>\n",
       "    <tr>\n",
       "      <th>4</th>\n",
       "      <td>software at incredibly low prices ( 86 % lower...</td>\n",
       "      <td>1</td>\n",
       "      <td>software at incredibly low prices ( 86 % lower...</td>\n",
       "    </tr>\n",
       "    <tr>\n",
       "      <th>6</th>\n",
       "      <td>On Sun, Aug 11, 2002 at 11:17:47AM +0100, wint...</td>\n",
       "      <td>0</td>\n",
       "      <td>On Sun, Aug 11, 2002 at 11:17:47AM +0100, wint...</td>\n",
       "    </tr>\n",
       "    <tr>\n",
       "      <th>8</th>\n",
       "      <td>we owe you lots of money dear applicant , afte...</td>\n",
       "      <td>1</td>\n",
       "      <td>we owe you lots of money dear applicant , afte...</td>\n",
       "    </tr>\n",
       "    <tr>\n",
       "      <th>9</th>\n",
       "      <td>re : coastal deal - with exxon participation u...</td>\n",
       "      <td>0</td>\n",
       "      <td>re : coastal deal - with exxon participation u...</td>\n",
       "    </tr>\n",
       "    <tr>\n",
       "      <th>10</th>\n",
       "      <td>make her beg you to give it to her everynight ...</td>\n",
       "      <td>1</td>\n",
       "      <td>make her beg you to give it to her everynight ...</td>\n",
       "    </tr>\n",
       "    <tr>\n",
       "      <th>11</th>\n",
       "      <td>URL: http://www.newsisfree.com/click/-5,830431...</td>\n",
       "      <td>0</td>\n",
       "      <td>URL: http://www.newsisfree.com/click/-5,830431...</td>\n",
       "    </tr>\n",
       "  </tbody>\n",
       "</table>\n",
       "</div>"
      ],
      "text/plain": [
       "                                                 text label  \\\n",
       "0   re : 6 . 1100 , disc : uniformitarianism , re ...     0   \n",
       "1   the other side of * galicismos * * galicismo *...     0   \n",
       "2   re : equistar deal tickets are you still avail...     0   \n",
       "3   \\nHello I am your hot lil horny toy.\\n    I am...     1   \n",
       "4   software at incredibly low prices ( 86 % lower...     1   \n",
       "6   On Sun, Aug 11, 2002 at 11:17:47AM +0100, wint...     0   \n",
       "8   we owe you lots of money dear applicant , afte...     1   \n",
       "9   re : coastal deal - with exxon participation u...     0   \n",
       "10  make her beg you to give it to her everynight ...     1   \n",
       "11  URL: http://www.newsisfree.com/click/-5,830431...     0   \n",
       "\n",
       "                                         cleaned_text  \n",
       "0   re : 6 . 1100 , disc : uniformitarianism , re ...  \n",
       "1   the other side of * galicismos * * galicismo *...  \n",
       "2   re : equistar deal tickets are you still avail...  \n",
       "3    Hello I am your hot lil horny toy.     I am t...  \n",
       "4   software at incredibly low prices ( 86 % lower...  \n",
       "6   On Sun, Aug 11, 2002 at 11:17:47AM +0100, wint...  \n",
       "8   we owe you lots of money dear applicant , afte...  \n",
       "9   re : coastal deal - with exxon participation u...  \n",
       "10  make her beg you to give it to her everynight ...  \n",
       "11  URL: http://www.newsisfree.com/click/-5,830431...  "
      ]
     },
     "execution_count": 39,
     "metadata": {},
     "output_type": "execute_result"
    }
   ],
   "source": [
    "emails_df.head(10)"
   ]
  },
  {
   "cell_type": "markdown",
   "metadata": {},
   "source": [
    "#### 4.3. Tokenization: Splitting the email text into individual tokens (words or subwords).\n",
    "#### 4.4. Stop-word Removal: Removing common words that do not contribute to the phishing detection.\n",
    "#### 4.5. Lemmatization/Stemming: Reducing words to their base or root form."
   ]
  },
  {
   "cell_type": "code",
   "execution_count": null,
   "metadata": {},
   "outputs": [],
   "source": [
    "# Download necessary NLTK data\n",
    "nltk.download('punkt')\n",
    "nltk.download('stopwords')\n",
    "nltk.download('wordnet')\n",
    "\n",
    "# Initialize lemmatizer\n",
    "lemmatizer = WordNetLemmatizer()"
   ]
  },
  {
   "cell_type": "code",
   "execution_count": null,
   "metadata": {},
   "outputs": [],
   "source": [
    "# Define a function for text preprocessing\n",
    "def preprocess_text(text):\n",
    "    # Tokenize the text\n",
    "    tokens = word_tokenize(text.lower())\n",
    "    \n",
    "    # Remove stop words\n",
    "    tokens = [token for token in tokens if token not in stopwords.words('english')]\n",
    "    \n",
    "    # Lemmatize the tokens\n",
    "    tokens = [lemmatizer.lemmatize(token) for token in tokens]\n",
    "    \n",
    "    # Join the tokens back into a single string\n",
    "    return ' '.join(tokens)\n",
    "\n",
    "# Apply the text preprocessing function to the correct column\n",
    "emails_df['processed_text'] = emails_df['Email Text'].apply(preprocess_text)  # Replace 'Email Text' with the correct column name"
   ]
  },
  {
   "cell_type": "markdown",
   "metadata": {},
   "source": [
    "#### 4.6. continue"
   ]
  },
  {
   "cell_type": "code",
   "execution_count": 40,
   "metadata": {},
   "outputs": [
    {
     "data": {
      "text/html": [
       "<div>\n",
       "<style scoped>\n",
       "    .dataframe tbody tr th:only-of-type {\n",
       "        vertical-align: middle;\n",
       "    }\n",
       "\n",
       "    .dataframe tbody tr th {\n",
       "        vertical-align: top;\n",
       "    }\n",
       "\n",
       "    .dataframe thead th {\n",
       "        text-align: right;\n",
       "    }\n",
       "</style>\n",
       "<table border=\"1\" class=\"dataframe\">\n",
       "  <thead>\n",
       "    <tr style=\"text-align: right;\">\n",
       "      <th></th>\n",
       "      <th>text</th>\n",
       "      <th>label</th>\n",
       "      <th>cleaned_text</th>\n",
       "    </tr>\n",
       "  </thead>\n",
       "  <tbody>\n",
       "    <tr>\n",
       "      <th>0</th>\n",
       "      <td>re : 6 . 1100 , disc : uniformitarianism , re ...</td>\n",
       "      <td>0</td>\n",
       "      <td>re : 6 . 1100 , disc : uniformitarianism , re ...</td>\n",
       "    </tr>\n",
       "    <tr>\n",
       "      <th>1</th>\n",
       "      <td>the other side of * galicismos * * galicismo *...</td>\n",
       "      <td>0</td>\n",
       "      <td>the other side of * galicismos * * galicismo *...</td>\n",
       "    </tr>\n",
       "    <tr>\n",
       "      <th>2</th>\n",
       "      <td>re : equistar deal tickets are you still avail...</td>\n",
       "      <td>0</td>\n",
       "      <td>re : equistar deal tickets are you still avail...</td>\n",
       "    </tr>\n",
       "    <tr>\n",
       "      <th>3</th>\n",
       "      <td>\\nHello I am your hot lil horny toy.\\n    I am...</td>\n",
       "      <td>1</td>\n",
       "      <td>Hello I am your hot lil horny toy.     I am t...</td>\n",
       "    </tr>\n",
       "    <tr>\n",
       "      <th>4</th>\n",
       "      <td>software at incredibly low prices ( 86 % lower...</td>\n",
       "      <td>1</td>\n",
       "      <td>software at incredibly low prices ( 86 % lower...</td>\n",
       "    </tr>\n",
       "  </tbody>\n",
       "</table>\n",
       "</div>"
      ],
      "text/plain": [
       "                                                text label  \\\n",
       "0  re : 6 . 1100 , disc : uniformitarianism , re ...     0   \n",
       "1  the other side of * galicismos * * galicismo *...     0   \n",
       "2  re : equistar deal tickets are you still avail...     0   \n",
       "3  \\nHello I am your hot lil horny toy.\\n    I am...     1   \n",
       "4  software at incredibly low prices ( 86 % lower...     1   \n",
       "\n",
       "                                        cleaned_text  \n",
       "0  re : 6 . 1100 , disc : uniformitarianism , re ...  \n",
       "1  the other side of * galicismos * * galicismo *...  \n",
       "2  re : equistar deal tickets are you still avail...  \n",
       "3   Hello I am your hot lil horny toy.     I am t...  \n",
       "4  software at incredibly low prices ( 86 % lower...  "
      ]
     },
     "execution_count": 40,
     "metadata": {},
     "output_type": "execute_result"
    }
   ],
   "source": [
    "# Display the first few processed texts\n",
    "emails_df.head()"
   ]
  },
  {
   "cell_type": "code",
   "execution_count": 41,
   "metadata": {},
   "outputs": [],
   "source": [
    "# Drop the original 'Email Text' column and rename 'processed_text' to 'Email Text'\n",
    "emails_df = emails_df.drop(columns=['text'])\n",
    "# balanced_emails_df = balanced_emails_df.rename(columns={'processed_text': 'Email Text'})"
   ]
  },
  {
   "cell_type": "code",
   "execution_count": 42,
   "metadata": {},
   "outputs": [],
   "source": [
    "# Reset the index if desired\n",
    "emails_df.reset_index(drop=True, inplace=True)"
   ]
  },
  {
   "cell_type": "code",
   "execution_count": 43,
   "metadata": {},
   "outputs": [
    {
     "data": {
      "text/html": [
       "<div>\n",
       "<style scoped>\n",
       "    .dataframe tbody tr th:only-of-type {\n",
       "        vertical-align: middle;\n",
       "    }\n",
       "\n",
       "    .dataframe tbody tr th {\n",
       "        vertical-align: top;\n",
       "    }\n",
       "\n",
       "    .dataframe thead th {\n",
       "        text-align: right;\n",
       "    }\n",
       "</style>\n",
       "<table border=\"1\" class=\"dataframe\">\n",
       "  <thead>\n",
       "    <tr style=\"text-align: right;\">\n",
       "      <th></th>\n",
       "      <th>label</th>\n",
       "      <th>cleaned_text</th>\n",
       "    </tr>\n",
       "  </thead>\n",
       "  <tbody>\n",
       "    <tr>\n",
       "      <th>0</th>\n",
       "      <td>0</td>\n",
       "      <td>re : 6 . 1100 , disc : uniformitarianism , re ...</td>\n",
       "    </tr>\n",
       "    <tr>\n",
       "      <th>1</th>\n",
       "      <td>0</td>\n",
       "      <td>the other side of * galicismos * * galicismo *...</td>\n",
       "    </tr>\n",
       "    <tr>\n",
       "      <th>2</th>\n",
       "      <td>0</td>\n",
       "      <td>re : equistar deal tickets are you still avail...</td>\n",
       "    </tr>\n",
       "    <tr>\n",
       "      <th>3</th>\n",
       "      <td>1</td>\n",
       "      <td>Hello I am your hot lil horny toy.     I am t...</td>\n",
       "    </tr>\n",
       "    <tr>\n",
       "      <th>4</th>\n",
       "      <td>1</td>\n",
       "      <td>software at incredibly low prices ( 86 % lower...</td>\n",
       "    </tr>\n",
       "  </tbody>\n",
       "</table>\n",
       "</div>"
      ],
      "text/plain": [
       "  label                                       cleaned_text\n",
       "0     0  re : 6 . 1100 , disc : uniformitarianism , re ...\n",
       "1     0  the other side of * galicismos * * galicismo *...\n",
       "2     0  re : equistar deal tickets are you still avail...\n",
       "3     1   Hello I am your hot lil horny toy.     I am t...\n",
       "4     1  software at incredibly low prices ( 86 % lower..."
      ]
     },
     "execution_count": 43,
     "metadata": {},
     "output_type": "execute_result"
    }
   ],
   "source": [
    "# Display the first few processed texts\n",
    "emails_df.head()"
   ]
  },
  {
   "cell_type": "code",
   "execution_count": 44,
   "metadata": {},
   "outputs": [
    {
     "data": {
      "text/plain": [
       "['label', 'cleaned_text']"
      ]
     },
     "execution_count": 44,
     "metadata": {},
     "output_type": "execute_result"
    }
   ],
   "source": [
    "cols = emails_df.columns.tolist()\n",
    "cols"
   ]
  },
  {
   "cell_type": "code",
   "execution_count": 45,
   "metadata": {},
   "outputs": [
    {
     "data": {
      "text/plain": [
       "['cleaned_text', 'label']"
      ]
     },
     "execution_count": 45,
     "metadata": {},
     "output_type": "execute_result"
    }
   ],
   "source": [
    "cols = cols[-1:] + cols[:-1]\n",
    "cols"
   ]
  },
  {
   "cell_type": "code",
   "execution_count": 46,
   "metadata": {},
   "outputs": [],
   "source": [
    "emails_df=emails_df[cols]\n"
   ]
  },
  {
   "cell_type": "code",
   "execution_count": 47,
   "metadata": {},
   "outputs": [],
   "source": [
    "emails_df = emails_df.rename(columns={'cleaned_text': 'text'})"
   ]
  },
  {
   "cell_type": "code",
   "execution_count": 48,
   "metadata": {},
   "outputs": [
    {
     "name": "stdout",
     "output_type": "stream",
     "text": [
      "                                                    text label\n",
      "0      re : 6 . 1100 , disc : uniformitarianism , re ...     0\n",
      "1      the other side of * galicismos * * galicismo *...     0\n",
      "2      re : equistar deal tickets are you still avail...     0\n",
      "3       Hello I am your hot lil horny toy.     I am t...     1\n",
      "4      software at incredibly low prices ( 86 % lower...     1\n",
      "...                                                  ...   ...\n",
      "15448  URL: http://diveintomark.org/archives/2002/09/...     0\n",
      "15449  date a lonely housewife always wanted to date ...     1\n",
      "15450  request submitted : access request for anita ....     0\n",
      "15451  re : important - prc mtg hi dorn &amp; john , ...     0\n",
      "15452  press clippings - letter on californian utilit...     0\n",
      "\n",
      "[15453 rows x 2 columns]\n"
     ]
    }
   ],
   "source": [
    "# Verify the changes\n",
    "print(emails_df)"
   ]
  },
  {
   "cell_type": "code",
   "execution_count": 49,
   "metadata": {},
   "outputs": [
    {
     "name": "stdout",
     "output_type": "stream",
     "text": [
      "label\n",
      "0    9386\n",
      "1    6067\n",
      "Name: count, dtype: int64\n"
     ]
    },
    {
     "data": {
      "text/plain": [
       "<Axes: xlabel='label', ylabel='count'>"
      ]
     },
     "execution_count": 49,
     "metadata": {},
     "output_type": "execute_result"
    },
    {
     "data": {
      "image/png": "[encoded data removed]",
      "text/plain": [
       "<Figure size 640x480 with 1 Axes>"
      ]
     },
     "metadata": {},
     "output_type": "display_data"
    }
   ],
   "source": [
    "# Check the distribution of labels\n",
    "print(emails_df['label'].value_counts())\n",
    "\n",
    "sns.countplot(x = 'label', data = emails_df, palette = 'Set1')"
   ]
  },
  {
   "cell_type": "markdown",
   "metadata": {},
   "source": [
    "### **5. Convert the DataFrame to JSON format**"
   ]
  },
  {
   "cell_type": "markdown",
   "metadata": {},
   "source": [
    "archive\n"
   ]
  },
  {
   "cell_type": "code",
   "execution_count": 50,
   "metadata": {},
   "outputs": [
    {
     "name": "stdout",
     "output_type": "stream",
     "text": [
      "Training set size: 12362\n",
      "Validation set size: 3091\n"
     ]
    }
   ],
   "source": [
    "from sklearn.model_selection import train_test_split\n",
    "\n",
    "# Split the dataset into training and validation sets\n",
    "train_df, validation_df = train_test_split(emails_df, test_size=0.2, random_state=42)\n",
    "\n",
    "# Verify the splits\n",
    "print(f'Training set size: {len(train_df)}')\n",
    "print(f'Validation set size: {len(validation_df)}')"
   ]
  },
  {
   "cell_type": "code",
   "execution_count": 51,
   "metadata": {},
   "outputs": [
    {
     "data": {
      "text/html": [
       "<div>\n",
       "<style scoped>\n",
       "    .dataframe tbody tr th:only-of-type {\n",
       "        vertical-align: middle;\n",
       "    }\n",
       "\n",
       "    .dataframe tbody tr th {\n",
       "        vertical-align: top;\n",
       "    }\n",
       "\n",
       "    .dataframe thead th {\n",
       "        text-align: right;\n",
       "    }\n",
       "</style>\n",
       "<table border=\"1\" class=\"dataframe\">\n",
       "  <thead>\n",
       "    <tr style=\"text-align: right;\">\n",
       "      <th></th>\n",
       "      <th>text</th>\n",
       "      <th>label</th>\n",
       "    </tr>\n",
       "  </thead>\n",
       "  <tbody>\n",
       "    <tr>\n",
       "      <th>15240</th>\n",
       "      <td>It doesn&amp;#x27;t really matter since they&amp;#x27;...</td>\n",
       "      <td>0</td>\n",
       "    </tr>\n",
       "    <tr>\n",
       "      <th>3647</th>\n",
       "      <td>www.low-interest-rates.net Â Â Â Â Â Â quotepo...</td>\n",
       "      <td>1</td>\n",
       "    </tr>\n",
       "    <tr>\n",
       "      <th>8451</th>\n",
       "      <td>home delivery cia &amp;quot; lis soft ` tabs new c...</td>\n",
       "      <td>1</td>\n",
       "    </tr>\n",
       "    <tr>\n",
       "      <th>2318</th>\n",
       "      <td>link correction : 10 million $ sweepstakes dow...</td>\n",
       "      <td>1</td>\n",
       "    </tr>\n",
       "    <tr>\n",
       "      <th>5960</th>\n",
       "      <td>julies cam info hi . . . . my name is julie . ...</td>\n",
       "      <td>1</td>\n",
       "    </tr>\n",
       "  </tbody>\n",
       "</table>\n",
       "</div>"
      ],
      "text/plain": [
       "                                                    text label\n",
       "15240  It doesn&#x27;t really matter since they&#x27;...     0\n",
       "3647   www.low-interest-rates.net Â Â Â Â Â Â quotepo...     1\n",
       "8451   home delivery cia &quot; lis soft ` tabs new c...     1\n",
       "2318   link correction : 10 million $ sweepstakes dow...     1\n",
       "5960   julies cam info hi . . . . my name is julie . ...     1"
      ]
     },
     "execution_count": 51,
     "metadata": {},
     "output_type": "execute_result"
    }
   ],
   "source": [
    "train_df.head()"
   ]
  },
  {
   "cell_type": "code",
   "execution_count": 52,
   "metadata": {},
   "outputs": [],
   "source": [
    "# Save training dataset to CSV\n",
    "train_df.to_csv('email_train_dataset_unbalance.csv', index=False)\n",
    "\n",
    "# Save validation dataset to CSV\n",
    "validation_df.to_csv('email_validation_dataset_unbalance.csv', index=False)"
   ]
  },
  {
   "cell_type": "code",
   "execution_count": null,
   "metadata": {},
   "outputs": [],
   "source": [
    "df_json = validation_df.to_json(orient='records', lines=True)\n",
    "\n",
    "# Save the JSON data to a file (optional, adjust the file path as needed)\n",
    "with open('cleaned_dataset.json', 'w') as file:\n",
    "    file.write(df_json)"
   ]
  },
  {
   "cell_type": "code",
   "execution_count": null,
   "metadata": {},
   "outputs": [],
   "source": []
  },
  {
   "cell_type": "code",
   "execution_count": null,
   "metadata": {},
   "outputs": [],
   "source": []
  },
  {
   "cell_type": "code",
   "execution_count": null,
   "metadata": {},
   "outputs": [],
   "source": []
  },
  {
   "cell_type": "code",
   "execution_count": null,
   "metadata": {},
   "outputs": [],
   "source": []
  },
  {
   "cell_type": "code",
   "execution_count": null,
   "metadata": {},
   "outputs": [],
   "source": [
    "# Load the dataset\n",
    "train_df = pd.read_csv('email_train_dataset.csv')  # Adjust the file path as needed\n",
    "\n",
    "# Display the first few rows of the dataset\n",
    "train_df.head()"
   ]
  },
  {
   "cell_type": "code",
   "execution_count": null,
   "metadata": {},
   "outputs": [],
   "source": [
    "# Check the distribution of labels\n",
    "print(train_df['label'].value_counts())\n",
    "\n",
    "sns.countplot(x = 'label', data = train_df, palette = 'Set1')"
   ]
  },
  {
   "cell_type": "code",
   "execution_count": null,
   "metadata": {},
   "outputs": [],
   "source": [
    "# Load the dataset\n",
    "validation_df = pd.read_csv('email_validation_dataset.csv')  # Adjust the file path as needed\n",
    "\n",
    "# Display the first few rows of the dataset\n",
    "validation_df.head()"
   ]
  },
  {
   "cell_type": "code",
   "execution_count": null,
   "metadata": {},
   "outputs": [],
   "source": [
    "# Check the distribution of labels\n",
    "print(validation_df['label'].value_counts())\n",
    "\n",
    "sns.countplot(x = 'label', data = validation_df, palette = 'Set1')"
   ]
  }
 ],
 "metadata": {
  "kernelspec": {
   "display_name": "machineLearning",
   "language": "python",
   "name": "python3"
  },
  "language_info": {
   "codemirror_mode": {
    "name": "ipython",
    "version": 3
   },
   "file_extension": ".py",
   "mimetype": "text/x-python",
   "name": "python",
   "nbconvert_exporter": "python",
   "pygments_lexer": "ipython3",
   "version": "3.12.3"
  }
 },
 "nbformat": 4,
 "nbformat_minor": 2
}
