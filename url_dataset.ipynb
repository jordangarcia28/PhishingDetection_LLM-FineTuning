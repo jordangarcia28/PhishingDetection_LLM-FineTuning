{
 "cells": [
  {
   "cell_type": "code",
   "execution_count": 2,
   "metadata": {},
   "outputs": [],
   "source": [
    "import pandas as pd\n",
    "import matplotlib.pyplot as plt\n",
    "import seaborn as sns\n",
    "import numpy as np\n",
    "import json"
   ]
  },
  {
   "cell_type": "code",
   "execution_count": 59,
   "metadata": {},
   "outputs": [
    {
     "data": {
      "text/html": [
       "<div>\n",
       "<style scoped>\n",
       "    .dataframe tbody tr th:only-of-type {\n",
       "        vertical-align: middle;\n",
       "    }\n",
       "\n",
       "    .dataframe tbody tr th {\n",
       "        vertical-align: top;\n",
       "    }\n",
       "\n",
       "    .dataframe thead th {\n",
       "        text-align: right;\n",
       "    }\n",
       "</style>\n",
       "<table border=\"1\" class=\"dataframe\">\n",
       "  <thead>\n",
       "    <tr style=\"text-align: right;\">\n",
       "      <th></th>\n",
       "      <th>phish_id</th>\n",
       "      <th>url</th>\n",
       "      <th>phish_detail_url</th>\n",
       "      <th>submission_time</th>\n",
       "      <th>verified</th>\n",
       "      <th>verification_time</th>\n",
       "      <th>online</th>\n",
       "      <th>target</th>\n",
       "    </tr>\n",
       "  </thead>\n",
       "  <tbody>\n",
       "    <tr>\n",
       "      <th>0</th>\n",
       "      <td>8659459</td>\n",
       "      <td>https://docs.google.com/presentation/d/e/2PACX...</td>\n",
       "      <td>http://www.phishtank.com/phish_detail.php?phis...</td>\n",
       "      <td>2024-07-16T14:41:45+00:00</td>\n",
       "      <td>yes</td>\n",
       "      <td>2024-07-16T14:53:16+00:00</td>\n",
       "      <td>yes</td>\n",
       "      <td>Other</td>\n",
       "    </tr>\n",
       "    <tr>\n",
       "      <th>1</th>\n",
       "      <td>8659455</td>\n",
       "      <td>https://neighbourlynorth.com/wp-admin/CHFINAL/...</td>\n",
       "      <td>http://www.phishtank.com/phish_detail.php?phis...</td>\n",
       "      <td>2024-07-16T14:39:29+00:00</td>\n",
       "      <td>yes</td>\n",
       "      <td>2024-07-16T14:53:16+00:00</td>\n",
       "      <td>yes</td>\n",
       "      <td>Other</td>\n",
       "    </tr>\n",
       "    <tr>\n",
       "      <th>2</th>\n",
       "      <td>8659454</td>\n",
       "      <td>https://myworkspace47e37.myclickfunnels.com/sw...</td>\n",
       "      <td>http://www.phishtank.com/phish_detail.php?phis...</td>\n",
       "      <td>2024-07-16T14:39:28+00:00</td>\n",
       "      <td>yes</td>\n",
       "      <td>2024-07-16T14:53:16+00:00</td>\n",
       "      <td>yes</td>\n",
       "      <td>Other</td>\n",
       "    </tr>\n",
       "    <tr>\n",
       "      <th>3</th>\n",
       "      <td>8659451</td>\n",
       "      <td>https://pos.uhaul.net.uhaulpos.net</td>\n",
       "      <td>http://www.phishtank.com/phish_detail.php?phis...</td>\n",
       "      <td>2024-07-16T14:37:32+00:00</td>\n",
       "      <td>yes</td>\n",
       "      <td>2024-07-16T14:53:16+00:00</td>\n",
       "      <td>yes</td>\n",
       "      <td>Other</td>\n",
       "    </tr>\n",
       "    <tr>\n",
       "      <th>4</th>\n",
       "      <td>8659450</td>\n",
       "      <td>https://southern-glow-number.glitch.me/</td>\n",
       "      <td>http://www.phishtank.com/phish_detail.php?phis...</td>\n",
       "      <td>2024-07-16T14:36:07+00:00</td>\n",
       "      <td>yes</td>\n",
       "      <td>2024-07-16T14:53:16+00:00</td>\n",
       "      <td>yes</td>\n",
       "      <td>Other</td>\n",
       "    </tr>\n",
       "  </tbody>\n",
       "</table>\n",
       "</div>"
      ],
      "text/plain": [
       "   phish_id                                                url  \\\n",
       "0   8659459  https://docs.google.com/presentation/d/e/2PACX...   \n",
       "1   8659455  https://neighbourlynorth.com/wp-admin/CHFINAL/...   \n",
       "2   8659454  https://myworkspace47e37.myclickfunnels.com/sw...   \n",
       "3   8659451                 https://pos.uhaul.net.uhaulpos.net   \n",
       "4   8659450            https://southern-glow-number.glitch.me/   \n",
       "\n",
       "                                    phish_detail_url  \\\n",
       "0  http://www.phishtank.com/phish_detail.php?phis...   \n",
       "1  http://www.phishtank.com/phish_detail.php?phis...   \n",
       "2  http://www.phishtank.com/phish_detail.php?phis...   \n",
       "3  http://www.phishtank.com/phish_detail.php?phis...   \n",
       "4  http://www.phishtank.com/phish_detail.php?phis...   \n",
       "\n",
       "             submission_time verified          verification_time online target  \n",
       "0  2024-07-16T14:41:45+00:00      yes  2024-07-16T14:53:16+00:00    yes  Other  \n",
       "1  2024-07-16T14:39:29+00:00      yes  2024-07-16T14:53:16+00:00    yes  Other  \n",
       "2  2024-07-16T14:39:28+00:00      yes  2024-07-16T14:53:16+00:00    yes  Other  \n",
       "3  2024-07-16T14:37:32+00:00      yes  2024-07-16T14:53:16+00:00    yes  Other  \n",
       "4  2024-07-16T14:36:07+00:00      yes  2024-07-16T14:53:16+00:00    yes  Other  "
      ]
     },
     "execution_count": 59,
     "metadata": {},
     "output_type": "execute_result"
    }
   ],
   "source": [
    "# Load the dataset\n",
    "phishing_url_df = pd.read_csv('datasets/phishtank_dump.csv')  # Adjust the file path as needed\n",
    "\n",
    "# Display the first few rows of the dataset\n",
    "phishing_url_df.head()"
   ]
  },
  {
   "cell_type": "code",
   "execution_count": 60,
   "metadata": {},
   "outputs": [
    {
     "data": {
      "text/html": [
       "<div>\n",
       "<style scoped>\n",
       "    .dataframe tbody tr th:only-of-type {\n",
       "        vertical-align: middle;\n",
       "    }\n",
       "\n",
       "    .dataframe tbody tr th {\n",
       "        vertical-align: top;\n",
       "    }\n",
       "\n",
       "    .dataframe thead th {\n",
       "        text-align: right;\n",
       "    }\n",
       "</style>\n",
       "<table border=\"1\" class=\"dataframe\">\n",
       "  <thead>\n",
       "    <tr style=\"text-align: right;\">\n",
       "      <th></th>\n",
       "      <th>url</th>\n",
       "    </tr>\n",
       "  </thead>\n",
       "  <tbody>\n",
       "    <tr>\n",
       "      <th>0</th>\n",
       "      <td>https://docs.google.com/presentation/d/e/2PACX...</td>\n",
       "    </tr>\n",
       "    <tr>\n",
       "      <th>1</th>\n",
       "      <td>https://neighbourlynorth.com/wp-admin/CHFINAL/...</td>\n",
       "    </tr>\n",
       "    <tr>\n",
       "      <th>2</th>\n",
       "      <td>https://myworkspace47e37.myclickfunnels.com/sw...</td>\n",
       "    </tr>\n",
       "    <tr>\n",
       "      <th>3</th>\n",
       "      <td>https://pos.uhaul.net.uhaulpos.net</td>\n",
       "    </tr>\n",
       "    <tr>\n",
       "      <th>4</th>\n",
       "      <td>https://southern-glow-number.glitch.me/</td>\n",
       "    </tr>\n",
       "    <tr>\n",
       "      <th>...</th>\n",
       "      <td>...</td>\n",
       "    </tr>\n",
       "    <tr>\n",
       "      <th>64186</th>\n",
       "      <td>http://www.ezblox.site/free/jennifer111/helpdesk</td>\n",
       "    </tr>\n",
       "    <tr>\n",
       "      <th>64187</th>\n",
       "      <td>http://www.formbuddy.com/cgi-bin/formdisp.pl?u...</td>\n",
       "    </tr>\n",
       "    <tr>\n",
       "      <th>64188</th>\n",
       "      <td>http://www.formbuddy.com/cgi-bin/formdisp.pl?u...</td>\n",
       "    </tr>\n",
       "    <tr>\n",
       "      <th>64189</th>\n",
       "      <td>http://www.habbocreditosparati.blogspot.com/</td>\n",
       "    </tr>\n",
       "    <tr>\n",
       "      <th>64190</th>\n",
       "      <td>http://creditiperhabbogratissicuro100.blogspot...</td>\n",
       "    </tr>\n",
       "  </tbody>\n",
       "</table>\n",
       "<p>64191 rows × 1 columns</p>\n",
       "</div>"
      ],
      "text/plain": [
       "                                                     url\n",
       "0      https://docs.google.com/presentation/d/e/2PACX...\n",
       "1      https://neighbourlynorth.com/wp-admin/CHFINAL/...\n",
       "2      https://myworkspace47e37.myclickfunnels.com/sw...\n",
       "3                     https://pos.uhaul.net.uhaulpos.net\n",
       "4                https://southern-glow-number.glitch.me/\n",
       "...                                                  ...\n",
       "64186   http://www.ezblox.site/free/jennifer111/helpdesk\n",
       "64187  http://www.formbuddy.com/cgi-bin/formdisp.pl?u...\n",
       "64188  http://www.formbuddy.com/cgi-bin/formdisp.pl?u...\n",
       "64189       http://www.habbocreditosparati.blogspot.com/\n",
       "64190  http://creditiperhabbogratissicuro100.blogspot...\n",
       "\n",
       "[64191 rows x 1 columns]"
      ]
     },
     "execution_count": 60,
     "metadata": {},
     "output_type": "execute_result"
    }
   ],
   "source": [
    "# Assuming your DataFrame is named df\n",
    "# Keep only the 'url' column\n",
    "phishing_url_df = phishing_url_df[['url']]\n",
    "\n",
    "# Display the filtered DataFrame\n",
    "phishing_url_df"
   ]
  },
  {
   "cell_type": "code",
   "execution_count": 61,
   "metadata": {},
   "outputs": [],
   "source": [
    "# Function to extract the subdomain, domain, and TLD\n",
    "def extract_domain(url):\n",
    "    parsed_url = urlparse(url)\n",
    "    domain = parsed_url.netloc\n",
    "    return domain\n",
    "\n",
    "phishing_url_df['domain'] = phishing_url_df['url'].apply(extract_domain)"
   ]
  },
  {
   "cell_type": "code",
   "execution_count": 62,
   "metadata": {},
   "outputs": [],
   "source": [
    "# Remove duplicates based on the 'domain' column\n",
    "phishing_url_df = phishing_url_df.drop_duplicates(subset='domain')"
   ]
  },
  {
   "cell_type": "code",
   "execution_count": 63,
   "metadata": {},
   "outputs": [
    {
     "name": "stderr",
     "output_type": "stream",
     "text": [
      "/var/folders/zg/35ghknm958b4ltq43qlvw2dh0000gn/T/ipykernel_36933/2170096719.py:2: SettingWithCopyWarning: \n",
      "A value is trying to be set on a copy of a slice from a DataFrame\n",
      "\n",
      "See the caveats in the documentation: https://pandas.pydata.org/pandas-docs/stable/user_guide/indexing.html#returning-a-view-versus-a-copy\n",
      "  phishing_url_df.drop(columns=['domain'], inplace=True)\n"
     ]
    }
   ],
   "source": [
    "# drop the 'domain' column if you only need the 'domain'\n",
    "phishing_url_df.drop(columns=['domain'], inplace=True)"
   ]
  },
  {
   "cell_type": "code",
   "execution_count": 64,
   "metadata": {},
   "outputs": [],
   "source": [
    "# Reset the index\n",
    "phishing_url_df.reset_index(drop=True, inplace=True)"
   ]
  },
  {
   "cell_type": "code",
   "execution_count": 65,
   "metadata": {},
   "outputs": [
    {
     "name": "stderr",
     "output_type": "stream",
     "text": [
      "/var/folders/zg/35ghknm958b4ltq43qlvw2dh0000gn/T/ipykernel_36933/3756835367.py:1: SettingWithCopyWarning: \n",
      "A value is trying to be set on a copy of a slice from a DataFrame.\n",
      "Try using .loc[row_indexer,col_indexer] = value instead\n",
      "\n",
      "See the caveats in the documentation: https://pandas.pydata.org/pandas-docs/stable/user_guide/indexing.html#returning-a-view-versus-a-copy\n",
      "  phishing_url_df['label'] = 1\n"
     ]
    }
   ],
   "source": [
    "phishing_url_df['label'] = 1"
   ]
  },
  {
   "cell_type": "code",
   "execution_count": 66,
   "metadata": {},
   "outputs": [
    {
     "data": {
      "text/html": [
       "<div>\n",
       "<style scoped>\n",
       "    .dataframe tbody tr th:only-of-type {\n",
       "        vertical-align: middle;\n",
       "    }\n",
       "\n",
       "    .dataframe tbody tr th {\n",
       "        vertical-align: top;\n",
       "    }\n",
       "\n",
       "    .dataframe thead th {\n",
       "        text-align: right;\n",
       "    }\n",
       "</style>\n",
       "<table border=\"1\" class=\"dataframe\">\n",
       "  <thead>\n",
       "    <tr style=\"text-align: right;\">\n",
       "      <th></th>\n",
       "      <th>url</th>\n",
       "      <th>label</th>\n",
       "    </tr>\n",
       "  </thead>\n",
       "  <tbody>\n",
       "    <tr>\n",
       "      <th>0</th>\n",
       "      <td>https://docs.google.com/presentation/d/e/2PACX...</td>\n",
       "      <td>1</td>\n",
       "    </tr>\n",
       "    <tr>\n",
       "      <th>1</th>\n",
       "      <td>https://neighbourlynorth.com/wp-admin/CHFINAL/...</td>\n",
       "      <td>1</td>\n",
       "    </tr>\n",
       "    <tr>\n",
       "      <th>2</th>\n",
       "      <td>https://myworkspace47e37.myclickfunnels.com/sw...</td>\n",
       "      <td>1</td>\n",
       "    </tr>\n",
       "    <tr>\n",
       "      <th>3</th>\n",
       "      <td>https://pos.uhaul.net.uhaulpos.net</td>\n",
       "      <td>1</td>\n",
       "    </tr>\n",
       "    <tr>\n",
       "      <th>4</th>\n",
       "      <td>https://southern-glow-number.glitch.me/</td>\n",
       "      <td>1</td>\n",
       "    </tr>\n",
       "    <tr>\n",
       "      <th>...</th>\n",
       "      <td>...</td>\n",
       "      <td>...</td>\n",
       "    </tr>\n",
       "    <tr>\n",
       "      <th>40019</th>\n",
       "      <td>http://whare.100webspace.net/joomla/plugins/fm...</td>\n",
       "      <td>1</td>\n",
       "    </tr>\n",
       "    <tr>\n",
       "      <th>40020</th>\n",
       "      <td>http://webmailadmin0.myfreesites.net/</td>\n",
       "      <td>1</td>\n",
       "    </tr>\n",
       "    <tr>\n",
       "      <th>40021</th>\n",
       "      <td>http://www.ezblox.site/free/jennifer111/helpdesk</td>\n",
       "      <td>1</td>\n",
       "    </tr>\n",
       "    <tr>\n",
       "      <th>40022</th>\n",
       "      <td>http://www.habbocreditosparati.blogspot.com/</td>\n",
       "      <td>1</td>\n",
       "    </tr>\n",
       "    <tr>\n",
       "      <th>40023</th>\n",
       "      <td>http://creditiperhabbogratissicuro100.blogspot...</td>\n",
       "      <td>1</td>\n",
       "    </tr>\n",
       "  </tbody>\n",
       "</table>\n",
       "<p>40024 rows × 2 columns</p>\n",
       "</div>"
      ],
      "text/plain": [
       "                                                     url  label\n",
       "0      https://docs.google.com/presentation/d/e/2PACX...      1\n",
       "1      https://neighbourlynorth.com/wp-admin/CHFINAL/...      1\n",
       "2      https://myworkspace47e37.myclickfunnels.com/sw...      1\n",
       "3                     https://pos.uhaul.net.uhaulpos.net      1\n",
       "4                https://southern-glow-number.glitch.me/      1\n",
       "...                                                  ...    ...\n",
       "40019  http://whare.100webspace.net/joomla/plugins/fm...      1\n",
       "40020              http://webmailadmin0.myfreesites.net/      1\n",
       "40021   http://www.ezblox.site/free/jennifer111/helpdesk      1\n",
       "40022       http://www.habbocreditosparati.blogspot.com/      1\n",
       "40023  http://creditiperhabbogratissicuro100.blogspot...      1\n",
       "\n",
       "[40024 rows x 2 columns]"
      ]
     },
     "execution_count": 66,
     "metadata": {},
     "output_type": "execute_result"
    }
   ],
   "source": [
    "phishing_url_df"
   ]
  },
  {
   "cell_type": "markdown",
   "metadata": {},
   "source": [
    "## Legit URL Dataset"
   ]
  },
  {
   "cell_type": "code",
   "execution_count": 3,
   "metadata": {},
   "outputs": [
    {
     "data": {
      "text/html": [
       "<div>\n",
       "<style scoped>\n",
       "    .dataframe tbody tr th:only-of-type {\n",
       "        vertical-align: middle;\n",
       "    }\n",
       "\n",
       "    .dataframe tbody tr th {\n",
       "        vertical-align: top;\n",
       "    }\n",
       "\n",
       "    .dataframe thead th {\n",
       "        text-align: right;\n",
       "    }\n",
       "</style>\n",
       "<table border=\"1\" class=\"dataframe\">\n",
       "  <thead>\n",
       "    <tr style=\"text-align: right;\">\n",
       "      <th></th>\n",
       "      <th>Rank</th>\n",
       "      <th>Domain</th>\n",
       "      <th>Open Page Rank</th>\n",
       "    </tr>\n",
       "  </thead>\n",
       "  <tbody>\n",
       "    <tr>\n",
       "      <th>0</th>\n",
       "      <td>1</td>\n",
       "      <td>facebook.com</td>\n",
       "      <td>10.0</td>\n",
       "    </tr>\n",
       "    <tr>\n",
       "      <th>1</th>\n",
       "      <td>2</td>\n",
       "      <td>fonts.googleapis.com</td>\n",
       "      <td>10.0</td>\n",
       "    </tr>\n",
       "    <tr>\n",
       "      <th>2</th>\n",
       "      <td>3</td>\n",
       "      <td>google.com</td>\n",
       "      <td>10.0</td>\n",
       "    </tr>\n",
       "    <tr>\n",
       "      <th>3</th>\n",
       "      <td>4</td>\n",
       "      <td>youtube.com</td>\n",
       "      <td>10.0</td>\n",
       "    </tr>\n",
       "    <tr>\n",
       "      <th>4</th>\n",
       "      <td>5</td>\n",
       "      <td>twitter.com</td>\n",
       "      <td>10.0</td>\n",
       "    </tr>\n",
       "  </tbody>\n",
       "</table>\n",
       "</div>"
      ],
      "text/plain": [
       "   Rank                Domain  Open Page Rank\n",
       "0     1          facebook.com            10.0\n",
       "1     2  fonts.googleapis.com            10.0\n",
       "2     3            google.com            10.0\n",
       "3     4           youtube.com            10.0\n",
       "4     5           twitter.com            10.0"
      ]
     },
     "execution_count": 3,
     "metadata": {},
     "output_type": "execute_result"
    }
   ],
   "source": [
    "# Load the dataset\n",
    "legit_url_df = pd.read_csv('datasets/top10milliondomains.csv')  # Adjust the file path as needed\n",
    "\n",
    "# Display the first few rows of the dataset\n",
    "legit_url_df.head()"
   ]
  },
  {
   "cell_type": "code",
   "execution_count": 4,
   "metadata": {},
   "outputs": [
    {
     "data": {
      "text/html": [
       "<div>\n",
       "<style scoped>\n",
       "    .dataframe tbody tr th:only-of-type {\n",
       "        vertical-align: middle;\n",
       "    }\n",
       "\n",
       "    .dataframe tbody tr th {\n",
       "        vertical-align: top;\n",
       "    }\n",
       "\n",
       "    .dataframe thead th {\n",
       "        text-align: right;\n",
       "    }\n",
       "</style>\n",
       "<table border=\"1\" class=\"dataframe\">\n",
       "  <thead>\n",
       "    <tr style=\"text-align: right;\">\n",
       "      <th></th>\n",
       "      <th>Rank</th>\n",
       "      <th>Domain</th>\n",
       "      <th>Open Page Rank</th>\n",
       "    </tr>\n",
       "  </thead>\n",
       "  <tbody>\n",
       "    <tr>\n",
       "      <th>0</th>\n",
       "      <td>1</td>\n",
       "      <td>facebook.com</td>\n",
       "      <td>10.00</td>\n",
       "    </tr>\n",
       "    <tr>\n",
       "      <th>1</th>\n",
       "      <td>2</td>\n",
       "      <td>fonts.googleapis.com</td>\n",
       "      <td>10.00</td>\n",
       "    </tr>\n",
       "    <tr>\n",
       "      <th>2</th>\n",
       "      <td>3</td>\n",
       "      <td>google.com</td>\n",
       "      <td>10.00</td>\n",
       "    </tr>\n",
       "    <tr>\n",
       "      <th>3</th>\n",
       "      <td>4</td>\n",
       "      <td>youtube.com</td>\n",
       "      <td>10.00</td>\n",
       "    </tr>\n",
       "    <tr>\n",
       "      <th>4</th>\n",
       "      <td>5</td>\n",
       "      <td>twitter.com</td>\n",
       "      <td>10.00</td>\n",
       "    </tr>\n",
       "    <tr>\n",
       "      <th>...</th>\n",
       "      <td>...</td>\n",
       "      <td>...</td>\n",
       "      <td>...</td>\n",
       "    </tr>\n",
       "    <tr>\n",
       "      <th>9999995</th>\n",
       "      <td>9999996</td>\n",
       "      <td>cambridgenanotechald.com</td>\n",
       "      <td>3.32</td>\n",
       "    </tr>\n",
       "    <tr>\n",
       "      <th>9999996</th>\n",
       "      <td>9999997</td>\n",
       "      <td>jigsawsite.com</td>\n",
       "      <td>3.32</td>\n",
       "    </tr>\n",
       "    <tr>\n",
       "      <th>9999997</th>\n",
       "      <td>9999998</td>\n",
       "      <td>masteringprivateequity.com</td>\n",
       "      <td>3.32</td>\n",
       "    </tr>\n",
       "    <tr>\n",
       "      <th>9999998</th>\n",
       "      <td>9999999</td>\n",
       "      <td>openheartcounselingatx.com</td>\n",
       "      <td>3.32</td>\n",
       "    </tr>\n",
       "    <tr>\n",
       "      <th>9999999</th>\n",
       "      <td>10000000</td>\n",
       "      <td>tour.lawrence.edu</td>\n",
       "      <td>3.32</td>\n",
       "    </tr>\n",
       "  </tbody>\n",
       "</table>\n",
       "<p>10000000 rows × 3 columns</p>\n",
       "</div>"
      ],
      "text/plain": [
       "             Rank                      Domain  Open Page Rank\n",
       "0               1                facebook.com           10.00\n",
       "1               2        fonts.googleapis.com           10.00\n",
       "2               3                  google.com           10.00\n",
       "3               4                 youtube.com           10.00\n",
       "4               5                 twitter.com           10.00\n",
       "...           ...                         ...             ...\n",
       "9999995   9999996    cambridgenanotechald.com            3.32\n",
       "9999996   9999997              jigsawsite.com            3.32\n",
       "9999997   9999998  masteringprivateequity.com            3.32\n",
       "9999998   9999999  openheartcounselingatx.com            3.32\n",
       "9999999  10000000           tour.lawrence.edu            3.32\n",
       "\n",
       "[10000000 rows x 3 columns]"
      ]
     },
     "execution_count": 4,
     "metadata": {},
     "output_type": "execute_result"
    }
   ],
   "source": [
    "legit_url_df"
   ]
  },
  {
   "cell_type": "code",
   "execution_count": 69,
   "metadata": {},
   "outputs": [],
   "source": [
    "# drop the 'Open Page Rank' column\n",
    "legit_url_df.drop(columns=['Open Page Rank'], inplace=True)\n",
    "\n",
    "# drop the 'Rank' column\n",
    "legit_url_df.drop(columns=['Rank'], inplace=True)"
   ]
  },
  {
   "cell_type": "code",
   "execution_count": 70,
   "metadata": {},
   "outputs": [],
   "source": [
    "legit_url_df['label'] = 0"
   ]
  },
  {
   "cell_type": "code",
   "execution_count": 71,
   "metadata": {},
   "outputs": [],
   "source": [
    "legit_url_df = legit_url_df.rename(columns={'Domain': 'url'})"
   ]
  },
  {
   "cell_type": "code",
   "execution_count": 72,
   "metadata": {},
   "outputs": [
    {
     "data": {
      "text/html": [
       "<div>\n",
       "<style scoped>\n",
       "    .dataframe tbody tr th:only-of-type {\n",
       "        vertical-align: middle;\n",
       "    }\n",
       "\n",
       "    .dataframe tbody tr th {\n",
       "        vertical-align: top;\n",
       "    }\n",
       "\n",
       "    .dataframe thead th {\n",
       "        text-align: right;\n",
       "    }\n",
       "</style>\n",
       "<table border=\"1\" class=\"dataframe\">\n",
       "  <thead>\n",
       "    <tr style=\"text-align: right;\">\n",
       "      <th></th>\n",
       "      <th>url</th>\n",
       "      <th>label</th>\n",
       "    </tr>\n",
       "  </thead>\n",
       "  <tbody>\n",
       "    <tr>\n",
       "      <th>0</th>\n",
       "      <td>facebook.com</td>\n",
       "      <td>0</td>\n",
       "    </tr>\n",
       "    <tr>\n",
       "      <th>1</th>\n",
       "      <td>fonts.googleapis.com</td>\n",
       "      <td>0</td>\n",
       "    </tr>\n",
       "    <tr>\n",
       "      <th>2</th>\n",
       "      <td>google.com</td>\n",
       "      <td>0</td>\n",
       "    </tr>\n",
       "    <tr>\n",
       "      <th>3</th>\n",
       "      <td>youtube.com</td>\n",
       "      <td>0</td>\n",
       "    </tr>\n",
       "    <tr>\n",
       "      <th>4</th>\n",
       "      <td>twitter.com</td>\n",
       "      <td>0</td>\n",
       "    </tr>\n",
       "    <tr>\n",
       "      <th>...</th>\n",
       "      <td>...</td>\n",
       "      <td>...</td>\n",
       "    </tr>\n",
       "    <tr>\n",
       "      <th>9999995</th>\n",
       "      <td>cambridgenanotechald.com</td>\n",
       "      <td>0</td>\n",
       "    </tr>\n",
       "    <tr>\n",
       "      <th>9999996</th>\n",
       "      <td>jigsawsite.com</td>\n",
       "      <td>0</td>\n",
       "    </tr>\n",
       "    <tr>\n",
       "      <th>9999997</th>\n",
       "      <td>masteringprivateequity.com</td>\n",
       "      <td>0</td>\n",
       "    </tr>\n",
       "    <tr>\n",
       "      <th>9999998</th>\n",
       "      <td>openheartcounselingatx.com</td>\n",
       "      <td>0</td>\n",
       "    </tr>\n",
       "    <tr>\n",
       "      <th>9999999</th>\n",
       "      <td>tour.lawrence.edu</td>\n",
       "      <td>0</td>\n",
       "    </tr>\n",
       "  </tbody>\n",
       "</table>\n",
       "<p>10000000 rows × 2 columns</p>\n",
       "</div>"
      ],
      "text/plain": [
       "                                url  label\n",
       "0                      facebook.com      0\n",
       "1              fonts.googleapis.com      0\n",
       "2                        google.com      0\n",
       "3                       youtube.com      0\n",
       "4                       twitter.com      0\n",
       "...                             ...    ...\n",
       "9999995    cambridgenanotechald.com      0\n",
       "9999996              jigsawsite.com      0\n",
       "9999997  masteringprivateequity.com      0\n",
       "9999998  openheartcounselingatx.com      0\n",
       "9999999           tour.lawrence.edu      0\n",
       "\n",
       "[10000000 rows x 2 columns]"
      ]
     },
     "execution_count": 72,
     "metadata": {},
     "output_type": "execute_result"
    }
   ],
   "source": [
    "legit_url_df"
   ]
  },
  {
   "cell_type": "markdown",
   "metadata": {},
   "source": [
    "## Combine Dataset"
   ]
  },
  {
   "cell_type": "code",
   "execution_count": 73,
   "metadata": {},
   "outputs": [
    {
     "name": "stdout",
     "output_type": "stream",
     "text": [
      "                                                     url  label\n",
      "0                               https://1244.2ooble.com/      1\n",
      "1                        http://tide.co-moveaccount.com/      1\n",
      "2                    https://shaw-104904.weeblysite.com/      1\n",
      "3      https://www.agodabusiness.org/index/account/in...      1\n",
      "4      https://hello-world-still-art-f29d.cardagofye....      1\n",
      "...                                                  ...    ...\n",
      "39995                                  f1000research.com      0\n",
      "39996                                       bucknell.edu      0\n",
      "39997                           allergyasthmanetwork.org      0\n",
      "39998                                   dailygazette.com      0\n",
      "39999                                           elisa.fi      0\n",
      "\n",
      "[40000 rows x 2 columns]\n"
     ]
    }
   ],
   "source": [
    "# import pandas as pd \n",
    "\n",
    "# Sample DataFrame creation for demonstration purposes\n",
    "# phishing_url_df = pd.DataFrame({'url': ['phishing_url_{}'.format(i) for i in range(10000)]})\n",
    "# legit_url_df = pd.DataFrame({'url': ['legit_url_{}'.format(i) for i in range(10000)]})\n",
    "\n",
    "# Sample 20000 rows from phishing_url_df\n",
    "sampled_phishing = phishing_url_df.sample(n=20000, random_state=42)\n",
    "\n",
    "# Pick the top 20000 rows from legit_url_df\n",
    "top_legit = legit_url_df.head(20000)\n",
    "\n",
    "# Combine the two DataFrames\n",
    "combined_url_df = pd.concat([sampled_phishing, top_legit], ignore_index=True)\n",
    "\n",
    "# Display the combined DataFrame\n",
    "print(combined_url_df)"
   ]
  },
  {
   "cell_type": "code",
   "execution_count": 74,
   "metadata": {},
   "outputs": [],
   "source": [
    "# combined_url_df\n",
    "combined_url_df = combined_url_df.rename(columns={'url': 'text'})"
   ]
  },
  {
   "cell_type": "code",
   "execution_count": 75,
   "metadata": {},
   "outputs": [
    {
     "data": {
      "text/html": [
       "<div>\n",
       "<style scoped>\n",
       "    .dataframe tbody tr th:only-of-type {\n",
       "        vertical-align: middle;\n",
       "    }\n",
       "\n",
       "    .dataframe tbody tr th {\n",
       "        vertical-align: top;\n",
       "    }\n",
       "\n",
       "    .dataframe thead th {\n",
       "        text-align: right;\n",
       "    }\n",
       "</style>\n",
       "<table border=\"1\" class=\"dataframe\">\n",
       "  <thead>\n",
       "    <tr style=\"text-align: right;\">\n",
       "      <th></th>\n",
       "      <th>text</th>\n",
       "      <th>label</th>\n",
       "    </tr>\n",
       "  </thead>\n",
       "  <tbody>\n",
       "    <tr>\n",
       "      <th>0</th>\n",
       "      <td>https://1244.2ooble.com/</td>\n",
       "      <td>1</td>\n",
       "    </tr>\n",
       "    <tr>\n",
       "      <th>1</th>\n",
       "      <td>http://tide.co-moveaccount.com/</td>\n",
       "      <td>1</td>\n",
       "    </tr>\n",
       "    <tr>\n",
       "      <th>2</th>\n",
       "      <td>https://shaw-104904.weeblysite.com/</td>\n",
       "      <td>1</td>\n",
       "    </tr>\n",
       "    <tr>\n",
       "      <th>3</th>\n",
       "      <td>https://www.agodabusiness.org/index/account/in...</td>\n",
       "      <td>1</td>\n",
       "    </tr>\n",
       "    <tr>\n",
       "      <th>4</th>\n",
       "      <td>https://hello-world-still-art-f29d.cardagofye....</td>\n",
       "      <td>1</td>\n",
       "    </tr>\n",
       "    <tr>\n",
       "      <th>...</th>\n",
       "      <td>...</td>\n",
       "      <td>...</td>\n",
       "    </tr>\n",
       "    <tr>\n",
       "      <th>39995</th>\n",
       "      <td>f1000research.com</td>\n",
       "      <td>0</td>\n",
       "    </tr>\n",
       "    <tr>\n",
       "      <th>39996</th>\n",
       "      <td>bucknell.edu</td>\n",
       "      <td>0</td>\n",
       "    </tr>\n",
       "    <tr>\n",
       "      <th>39997</th>\n",
       "      <td>allergyasthmanetwork.org</td>\n",
       "      <td>0</td>\n",
       "    </tr>\n",
       "    <tr>\n",
       "      <th>39998</th>\n",
       "      <td>dailygazette.com</td>\n",
       "      <td>0</td>\n",
       "    </tr>\n",
       "    <tr>\n",
       "      <th>39999</th>\n",
       "      <td>elisa.fi</td>\n",
       "      <td>0</td>\n",
       "    </tr>\n",
       "  </tbody>\n",
       "</table>\n",
       "<p>40000 rows × 2 columns</p>\n",
       "</div>"
      ],
      "text/plain": [
       "                                                    text  label\n",
       "0                               https://1244.2ooble.com/      1\n",
       "1                        http://tide.co-moveaccount.com/      1\n",
       "2                    https://shaw-104904.weeblysite.com/      1\n",
       "3      https://www.agodabusiness.org/index/account/in...      1\n",
       "4      https://hello-world-still-art-f29d.cardagofye....      1\n",
       "...                                                  ...    ...\n",
       "39995                                  f1000research.com      0\n",
       "39996                                       bucknell.edu      0\n",
       "39997                           allergyasthmanetwork.org      0\n",
       "39998                                   dailygazette.com      0\n",
       "39999                                           elisa.fi      0\n",
       "\n",
       "[40000 rows x 2 columns]"
      ]
     },
     "execution_count": 75,
     "metadata": {},
     "output_type": "execute_result"
    }
   ],
   "source": [
    "combined_url_df"
   ]
  },
  {
   "cell_type": "code",
   "execution_count": 76,
   "metadata": {},
   "outputs": [
    {
     "name": "stdout",
     "output_type": "stream",
     "text": [
      "label\n",
      "1    20000\n",
      "0    20000\n",
      "Name: count, dtype: int64\n"
     ]
    },
    {
     "data": {
      "text/plain": [
       "<Axes: xlabel='label', ylabel='count'>"
      ]
     },
     "execution_count": 76,
     "metadata": {},
     "output_type": "execute_result"
    },
    {
     "data": {
      "image/png": "[encoded data removed]",
      "text/plain": [
       "<Figure size 640x480 with 1 Axes>"
      ]
     },
     "metadata": {},
     "output_type": "display_data"
    }
   ],
   "source": [
    "# Check the distribution of labels\n",
    "print(combined_url_df['label'].value_counts())\n",
    "\n",
    "sns.countplot(x = 'label', data = combined_url_df, palette = 'Set2')"
   ]
  },
  {
   "cell_type": "markdown",
   "metadata": {},
   "source": [
    "## Split into Training and Validation Dataset"
   ]
  },
  {
   "cell_type": "code",
   "execution_count": 77,
   "metadata": {},
   "outputs": [
    {
     "name": "stdout",
     "output_type": "stream",
     "text": [
      "Training set size: 32000\n",
      "Validation set size: 8000\n"
     ]
    }
   ],
   "source": [
    "from sklearn.model_selection import train_test_split\n",
    "\n",
    "# Split the dataset into training and validation sets\n",
    "train_df, validation_df = train_test_split(combined_url_df, test_size=0.2, random_state=42)\n",
    "\n",
    "# Verify the splits\n",
    "print(f'Training set size: {len(train_df)}')\n",
    "print(f'Validation set size: {len(validation_df)}')"
   ]
  },
  {
   "cell_type": "code",
   "execution_count": 78,
   "metadata": {},
   "outputs": [],
   "source": [
    "# Save training dataset to CSV\n",
    "train_df.to_csv('url_train_dataset_unbalance.csv', index=False)\n",
    "\n",
    "# Save validation dataset to CSV\n",
    "validation_df.to_csv('url_validation_dataset_unbalance.csv', index=False)"
   ]
  },
  {
   "cell_type": "code",
   "execution_count": 79,
   "metadata": {},
   "outputs": [
    {
     "name": "stdout",
     "output_type": "stream",
     "text": [
      "label\n",
      "0    16014\n",
      "1    15986\n",
      "Name: count, dtype: int64\n"
     ]
    },
    {
     "data": {
      "text/plain": [
       "<Axes: xlabel='label', ylabel='count'>"
      ]
     },
     "execution_count": 79,
     "metadata": {},
     "output_type": "execute_result"
    },
    {
     "data": {
      "image/png": "[encoded data removed]",
      "text/plain": [
       "<Figure size 640x480 with 1 Axes>"
      ]
     },
     "metadata": {},
     "output_type": "display_data"
    }
   ],
   "source": [
    "# Check the distribution of labels\n",
    "print(train_df['label'].value_counts())\n",
    "\n",
    "sns.countplot(x = 'label', data = train_df, palette = 'Set1')"
   ]
  },
  {
   "cell_type": "code",
   "execution_count": 80,
   "metadata": {},
   "outputs": [
    {
     "name": "stdout",
     "output_type": "stream",
     "text": [
      "label\n",
      "1    4014\n",
      "0    3986\n",
      "Name: count, dtype: int64\n"
     ]
    },
    {
     "data": {
      "text/plain": [
       "<Axes: xlabel='label', ylabel='count'>"
      ]
     },
     "execution_count": 80,
     "metadata": {},
     "output_type": "execute_result"
    },
    {
     "data": {
      "image/png": "[encoded data removed]",
      "text/plain": [
       "<Figure size 640x480 with 1 Axes>"
      ]
     },
     "metadata": {},
     "output_type": "display_data"
    }
   ],
   "source": [
    "# Check the distribution of labels\n",
    "print(validation_df['label'].value_counts())\n",
    "\n",
    "sns.countplot(x = 'label', data = validation_df, palette = 'Set1')"
   ]
  }
 ],
 "metadata": {
  "kernelspec": {
   "display_name": "machineLearning",
   "language": "python",
   "name": "python3"
  },
  "language_info": {
   "codemirror_mode": {
    "name": "ipython",
    "version": 3
   },
   "file_extension": ".py",
   "mimetype": "text/x-python",
   "name": "python",
   "nbconvert_exporter": "python",
   "pygments_lexer": "ipython3",
   "version": "3.12.3"
  }
 },
 "nbformat": 4,
 "nbformat_minor": 2
}
